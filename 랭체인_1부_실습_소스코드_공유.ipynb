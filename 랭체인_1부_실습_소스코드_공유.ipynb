{
  "nbformat": 4,
  "nbformat_minor": 0,
  "metadata": {
    "colab": {
      "provenance": [],
      "gpuType": "T4",
      "include_colab_link": true
    },
    "kernelspec": {
      "name": "python3",
      "display_name": "Python 3"
    },
    "language_info": {
      "name": "python"
    },
    "accelerator": "GPU",
    "gpuClass": "standard"
  },
  "cells": [
    {
      "cell_type": "markdown",
      "metadata": {
        "id": "view-in-github",
        "colab_type": "text"
      },
      "source": [
        "<a href=\"https://colab.research.google.com/github/tylee33/CPLR/blob/main/%E1%84%85%E1%85%A2%E1%86%BC%E1%84%8E%E1%85%A6%E1%84%8B%E1%85%B5%E1%86%AB_1%E1%84%87%E1%85%AE_%E1%84%89%E1%85%B5%E1%86%AF%E1%84%89%E1%85%B3%E1%86%B8_%E1%84%89%E1%85%A9%E1%84%89%E1%85%B3%E1%84%8F%E1%85%A9%E1%84%83%E1%85%B3_%E1%84%80%E1%85%A9%E1%86%BC%E1%84%8B%E1%85%B2.ipynb\" target=\"_parent\"><img src=\"https://colab.research.google.com/assets/colab-badge.svg\" alt=\"Open In Colab\"/></a>"
      ]
    },
    {
      "cell_type": "markdown",
      "source": [
        "본 문서는 아래 사이트에서 제공되는 설명 및 코드를 참고하였습니다. \n",
        "\n",
        "* https://python.langchain.com/"
      ],
      "metadata": {
        "id": "CjZxYI5cOBgc"
      }
    },
    {
      "cell_type": "markdown",
      "source": [
        "# 사용자키 준비\n",
        "\n",
        "* https://openai.com/ 에서 OPENAI_API_KEY 키를 발급받아주세요.\n",
        "* https://serpapi.com/ 에서 SERPAPI_API_KEY 키를 발급받아주세요."
      ],
      "metadata": {
        "id": "hz_4SL4ghuFi"
      }
    },
    {
      "cell_type": "code",
      "source": [
        "import os\n",
        "\n",
        "os.environ[\"OPENAI_API_KEY\"] = \"sk-sBUtkwogtq*****\"\n",
        "os.environ[\"SERPAPI_API_KEY\"] = \"5860719d8c2*****\""
      ],
      "metadata": {
        "id": "6Tz11WhvICS7"
      },
      "execution_count": null,
      "outputs": []
    },
    {
      "cell_type": "markdown",
      "source": [
        "# 패키지 설치"
      ],
      "metadata": {
        "id": "PbukDq2dhxel"
      }
    },
    {
      "cell_type": "code",
      "execution_count": null,
      "metadata": {
        "colab": {
          "base_uri": "https://localhost:8080/"
        },
        "id": "0fWmF0RdHlb_",
        "outputId": "3a22ccdb-d867-4c6f-8518-2f7acce21204"
      },
      "outputs": [
        {
          "output_type": "stream",
          "name": "stdout",
          "text": [
            "Looking in indexes: https://pypi.org/simple, https://us-python.pkg.dev/colab-wheels/public/simple/\n",
            "Collecting langchain\n",
            "  Downloading langchain-0.0.161-py3-none-any.whl (758 kB)\n",
            "\u001b[2K     \u001b[90m━━━━━━━━━━━━━━━━━━━━━━━━━━━━━━━━━━━━━━\u001b[0m \u001b[32m759.0/759.0 kB\u001b[0m \u001b[31m45.3 MB/s\u001b[0m eta \u001b[36m0:00:00\u001b[0m\n",
            "\u001b[?25hRequirement already satisfied: numpy<2,>=1 in /usr/local/lib/python3.10/dist-packages (from langchain) (1.22.4)\n",
            "Requirement already satisfied: pydantic<2,>=1 in /usr/local/lib/python3.10/dist-packages (from langchain) (1.10.7)\n",
            "Collecting async-timeout<5.0.0,>=4.0.0\n",
            "  Downloading async_timeout-4.0.2-py3-none-any.whl (5.8 kB)\n",
            "Requirement already satisfied: SQLAlchemy<3,>=1.4 in /usr/local/lib/python3.10/dist-packages (from langchain) (2.0.10)\n",
            "Requirement already satisfied: numexpr<3.0.0,>=2.8.4 in /usr/local/lib/python3.10/dist-packages (from langchain) (2.8.4)\n",
            "Collecting openapi-schema-pydantic<2.0,>=1.2\n",
            "  Downloading openapi_schema_pydantic-1.2.4-py3-none-any.whl (90 kB)\n",
            "\u001b[2K     \u001b[90m━━━━━━━━━━━━━━━━━━━━━━━━━━━━━━━━━━━━━━━━\u001b[0m \u001b[32m90.0/90.0 kB\u001b[0m \u001b[31m12.0 MB/s\u001b[0m eta \u001b[36m0:00:00\u001b[0m\n",
            "\u001b[?25hRequirement already satisfied: requests<3,>=2 in /usr/local/lib/python3.10/dist-packages (from langchain) (2.27.1)\n",
            "Collecting aiohttp<4.0.0,>=3.8.3\n",
            "  Downloading aiohttp-3.8.4-cp310-cp310-manylinux_2_17_x86_64.manylinux2014_x86_64.whl (1.0 MB)\n",
            "\u001b[2K     \u001b[90m━━━━━━━━━━━━━━━━━━━━━━━━━━━━━━━━━━━━━━━━\u001b[0m \u001b[32m1.0/1.0 MB\u001b[0m \u001b[31m55.2 MB/s\u001b[0m eta \u001b[36m0:00:00\u001b[0m\n",
            "\u001b[?25hRequirement already satisfied: tqdm>=4.48.0 in /usr/local/lib/python3.10/dist-packages (from langchain) (4.65.0)\n",
            "Requirement already satisfied: PyYAML>=5.4.1 in /usr/local/lib/python3.10/dist-packages (from langchain) (6.0)\n",
            "Requirement already satisfied: tenacity<9.0.0,>=8.1.0 in /usr/local/lib/python3.10/dist-packages (from langchain) (8.2.2)\n",
            "Collecting dataclasses-json<0.6.0,>=0.5.7\n",
            "  Downloading dataclasses_json-0.5.7-py3-none-any.whl (25 kB)\n",
            "Collecting frozenlist>=1.1.1\n",
            "  Downloading frozenlist-1.3.3-cp310-cp310-manylinux_2_5_x86_64.manylinux1_x86_64.manylinux_2_17_x86_64.manylinux2014_x86_64.whl (149 kB)\n",
            "\u001b[2K     \u001b[90m━━━━━━━━━━━━━━━━━━━━━━━━━━━━━━━━━━━━━━\u001b[0m \u001b[32m149.6/149.6 kB\u001b[0m \u001b[31m20.5 MB/s\u001b[0m eta \u001b[36m0:00:00\u001b[0m\n",
            "\u001b[?25hCollecting aiosignal>=1.1.2\n",
            "  Downloading aiosignal-1.3.1-py3-none-any.whl (7.6 kB)\n",
            "Requirement already satisfied: attrs>=17.3.0 in /usr/local/lib/python3.10/dist-packages (from aiohttp<4.0.0,>=3.8.3->langchain) (23.1.0)\n",
            "Collecting yarl<2.0,>=1.0\n",
            "  Downloading yarl-1.9.2-cp310-cp310-manylinux_2_17_x86_64.manylinux2014_x86_64.whl (268 kB)\n",
            "\u001b[2K     \u001b[90m━━━━━━━━━━━━━━━━━━━━━━━━━━━━━━━━━━━━━━\u001b[0m \u001b[32m268.8/268.8 kB\u001b[0m \u001b[31m32.5 MB/s\u001b[0m eta \u001b[36m0:00:00\u001b[0m\n",
            "\u001b[?25hCollecting multidict<7.0,>=4.5\n",
            "  Downloading multidict-6.0.4-cp310-cp310-manylinux_2_17_x86_64.manylinux2014_x86_64.whl (114 kB)\n",
            "\u001b[2K     \u001b[90m━━━━━━━━━━━━━━━━━━━━━━━━━━━━━━━━━━━━━━\u001b[0m \u001b[32m114.5/114.5 kB\u001b[0m \u001b[31m13.8 MB/s\u001b[0m eta \u001b[36m0:00:00\u001b[0m\n",
            "\u001b[?25hRequirement already satisfied: charset-normalizer<4.0,>=2.0 in /usr/local/lib/python3.10/dist-packages (from aiohttp<4.0.0,>=3.8.3->langchain) (2.0.12)\n",
            "Collecting typing-inspect>=0.4.0\n",
            "  Downloading typing_inspect-0.8.0-py3-none-any.whl (8.7 kB)\n",
            "Collecting marshmallow<4.0.0,>=3.3.0\n",
            "  Downloading marshmallow-3.19.0-py3-none-any.whl (49 kB)\n",
            "\u001b[2K     \u001b[90m━━━━━━━━━━━━━━━━━━━━━━━━━━━━━━━━━━━━━━━━\u001b[0m \u001b[32m49.1/49.1 kB\u001b[0m \u001b[31m5.4 MB/s\u001b[0m eta \u001b[36m0:00:00\u001b[0m\n",
            "\u001b[?25hCollecting marshmallow-enum<2.0.0,>=1.5.1\n",
            "  Downloading marshmallow_enum-1.5.1-py2.py3-none-any.whl (4.2 kB)\n",
            "Requirement already satisfied: typing-extensions>=4.2.0 in /usr/local/lib/python3.10/dist-packages (from pydantic<2,>=1->langchain) (4.5.0)\n",
            "Requirement already satisfied: idna<4,>=2.5 in /usr/local/lib/python3.10/dist-packages (from requests<3,>=2->langchain) (3.4)\n",
            "Requirement already satisfied: urllib3<1.27,>=1.21.1 in /usr/local/lib/python3.10/dist-packages (from requests<3,>=2->langchain) (1.26.15)\n",
            "Requirement already satisfied: certifi>=2017.4.17 in /usr/local/lib/python3.10/dist-packages (from requests<3,>=2->langchain) (2022.12.7)\n",
            "Requirement already satisfied: greenlet!=0.4.17 in /usr/local/lib/python3.10/dist-packages (from SQLAlchemy<3,>=1.4->langchain) (2.0.2)\n",
            "Requirement already satisfied: packaging>=17.0 in /usr/local/lib/python3.10/dist-packages (from marshmallow<4.0.0,>=3.3.0->dataclasses-json<0.6.0,>=0.5.7->langchain) (23.1)\n",
            "Collecting mypy-extensions>=0.3.0\n",
            "  Downloading mypy_extensions-1.0.0-py3-none-any.whl (4.7 kB)\n",
            "Installing collected packages: mypy-extensions, multidict, marshmallow, frozenlist, async-timeout, yarl, typing-inspect, openapi-schema-pydantic, marshmallow-enum, aiosignal, dataclasses-json, aiohttp, langchain\n",
            "Successfully installed aiohttp-3.8.4 aiosignal-1.3.1 async-timeout-4.0.2 dataclasses-json-0.5.7 frozenlist-1.3.3 langchain-0.0.161 marshmallow-3.19.0 marshmallow-enum-1.5.1 multidict-6.0.4 mypy-extensions-1.0.0 openapi-schema-pydantic-1.2.4 typing-inspect-0.8.0 yarl-1.9.2\n",
            "Looking in indexes: https://pypi.org/simple, https://us-python.pkg.dev/colab-wheels/public/simple/\n",
            "Collecting tiktoken\n",
            "  Downloading tiktoken-0.4.0-cp310-cp310-manylinux_2_17_x86_64.manylinux2014_x86_64.whl (1.7 MB)\n",
            "\u001b[2K     \u001b[90m━━━━━━━━━━━━━━━━━━━━━━━━━━━━━━━━━━━━━━━━\u001b[0m \u001b[32m1.7/1.7 MB\u001b[0m \u001b[31m27.2 MB/s\u001b[0m eta \u001b[36m0:00:00\u001b[0m\n",
            "\u001b[?25hRequirement already satisfied: requests>=2.26.0 in /usr/local/lib/python3.10/dist-packages (from tiktoken) (2.27.1)\n",
            "Requirement already satisfied: regex>=2022.1.18 in /usr/local/lib/python3.10/dist-packages (from tiktoken) (2022.10.31)\n",
            "Requirement already satisfied: charset-normalizer~=2.0.0 in /usr/local/lib/python3.10/dist-packages (from requests>=2.26.0->tiktoken) (2.0.12)\n",
            "Requirement already satisfied: certifi>=2017.4.17 in /usr/local/lib/python3.10/dist-packages (from requests>=2.26.0->tiktoken) (2022.12.7)\n",
            "Requirement already satisfied: idna<4,>=2.5 in /usr/local/lib/python3.10/dist-packages (from requests>=2.26.0->tiktoken) (3.4)\n",
            "Requirement already satisfied: urllib3<1.27,>=1.21.1 in /usr/local/lib/python3.10/dist-packages (from requests>=2.26.0->tiktoken) (1.26.15)\n",
            "Installing collected packages: tiktoken\n",
            "Successfully installed tiktoken-0.4.0\n",
            "Looking in indexes: https://pypi.org/simple, https://us-python.pkg.dev/colab-wheels/public/simple/\n",
            "Collecting openai\n",
            "  Downloading openai-0.27.6-py3-none-any.whl (71 kB)\n",
            "\u001b[2K     \u001b[90m━━━━━━━━━━━━━━━━━━━━━━━━━━━━━━━━━━━━━━━━\u001b[0m \u001b[32m71.9/71.9 kB\u001b[0m \u001b[31m6.2 MB/s\u001b[0m eta \u001b[36m0:00:00\u001b[0m\n",
            "\u001b[?25hRequirement already satisfied: tqdm in /usr/local/lib/python3.10/dist-packages (from openai) (4.65.0)\n",
            "Requirement already satisfied: requests>=2.20 in /usr/local/lib/python3.10/dist-packages (from openai) (2.27.1)\n",
            "Requirement already satisfied: aiohttp in /usr/local/lib/python3.10/dist-packages (from openai) (3.8.4)\n",
            "Requirement already satisfied: idna<4,>=2.5 in /usr/local/lib/python3.10/dist-packages (from requests>=2.20->openai) (3.4)\n",
            "Requirement already satisfied: urllib3<1.27,>=1.21.1 in /usr/local/lib/python3.10/dist-packages (from requests>=2.20->openai) (1.26.15)\n",
            "Requirement already satisfied: charset-normalizer~=2.0.0 in /usr/local/lib/python3.10/dist-packages (from requests>=2.20->openai) (2.0.12)\n",
            "Requirement already satisfied: certifi>=2017.4.17 in /usr/local/lib/python3.10/dist-packages (from requests>=2.20->openai) (2022.12.7)\n",
            "Requirement already satisfied: yarl<2.0,>=1.0 in /usr/local/lib/python3.10/dist-packages (from aiohttp->openai) (1.9.2)\n",
            "Requirement already satisfied: multidict<7.0,>=4.5 in /usr/local/lib/python3.10/dist-packages (from aiohttp->openai) (6.0.4)\n",
            "Requirement already satisfied: async-timeout<5.0,>=4.0.0a3 in /usr/local/lib/python3.10/dist-packages (from aiohttp->openai) (4.0.2)\n",
            "Requirement already satisfied: attrs>=17.3.0 in /usr/local/lib/python3.10/dist-packages (from aiohttp->openai) (23.1.0)\n",
            "Requirement already satisfied: frozenlist>=1.1.1 in /usr/local/lib/python3.10/dist-packages (from aiohttp->openai) (1.3.3)\n",
            "Requirement already satisfied: aiosignal>=1.1.2 in /usr/local/lib/python3.10/dist-packages (from aiohttp->openai) (1.3.1)\n",
            "Installing collected packages: openai\n",
            "Successfully installed openai-0.27.6\n",
            "Looking in indexes: https://pypi.org/simple, https://us-python.pkg.dev/colab-wheels/public/simple/\n",
            "Collecting google-search-results\n",
            "  Downloading google_search_results-2.4.2.tar.gz (18 kB)\n",
            "  Preparing metadata (setup.py) ... \u001b[?25l\u001b[?25hdone\n",
            "Requirement already satisfied: requests in /usr/local/lib/python3.10/dist-packages (from google-search-results) (2.27.1)\n",
            "Requirement already satisfied: certifi>=2017.4.17 in /usr/local/lib/python3.10/dist-packages (from requests->google-search-results) (2022.12.7)\n",
            "Requirement already satisfied: charset-normalizer~=2.0.0 in /usr/local/lib/python3.10/dist-packages (from requests->google-search-results) (2.0.12)\n",
            "Requirement already satisfied: idna<4,>=2.5 in /usr/local/lib/python3.10/dist-packages (from requests->google-search-results) (3.4)\n",
            "Requirement already satisfied: urllib3<1.27,>=1.21.1 in /usr/local/lib/python3.10/dist-packages (from requests->google-search-results) (1.26.15)\n",
            "Building wheels for collected packages: google-search-results\n",
            "  Building wheel for google-search-results (setup.py) ... \u001b[?25l\u001b[?25hdone\n",
            "  Created wheel for google-search-results: filename=google_search_results-2.4.2-py3-none-any.whl size=32019 sha256=35e51b7b3c58017eab99c797a3c2258b695425504446107c057833df67e2c276\n",
            "  Stored in directory: /root/.cache/pip/wheels/d3/b2/c3/03302d12bb44a2cdff3c9371f31b72c0c4e84b8d2285eeac53\n",
            "Successfully built google-search-results\n",
            "Installing collected packages: google-search-results\n",
            "Successfully installed google-search-results-2.4.2\n",
            "Looking in indexes: https://pypi.org/simple, https://us-python.pkg.dev/colab-wheels/public/simple/\n",
            "Collecting chromadb\n",
            "  Downloading chromadb-0.3.21-py3-none-any.whl (46 kB)\n",
            "\u001b[2K     \u001b[90m━━━━━━━━━━━━━━━━━━━━━━━━━━━━━━━━━━━━━━━━\u001b[0m \u001b[32m46.4/46.4 kB\u001b[0m \u001b[31m4.9 MB/s\u001b[0m eta \u001b[36m0:00:00\u001b[0m\n",
            "\u001b[?25hCollecting uvicorn[standard]>=0.18.3\n",
            "  Downloading uvicorn-0.22.0-py3-none-any.whl (58 kB)\n",
            "\u001b[2K     \u001b[90m━━━━━━━━━━━━━━━━━━━━━━━━━━━━━━━━━━━━━━━━\u001b[0m \u001b[32m58.3/58.3 kB\u001b[0m \u001b[31m9.1 MB/s\u001b[0m eta \u001b[36m0:00:00\u001b[0m\n",
            "\u001b[?25hRequirement already satisfied: pandas>=1.3 in /usr/local/lib/python3.10/dist-packages (from chromadb) (1.5.3)\n",
            "Requirement already satisfied: pydantic>=1.9 in /usr/local/lib/python3.10/dist-packages (from chromadb) (1.10.7)\n",
            "Collecting fastapi>=0.85.1\n",
            "  Downloading fastapi-0.95.1-py3-none-any.whl (56 kB)\n",
            "\u001b[2K     \u001b[90m━━━━━━━━━━━━━━━━━━━━━━━━━━━━━━━━━━━━━━━━\u001b[0m \u001b[32m57.0/57.0 kB\u001b[0m \u001b[31m8.1 MB/s\u001b[0m eta \u001b[36m0:00:00\u001b[0m\n",
            "\u001b[?25hRequirement already satisfied: numpy>=1.21.6 in /usr/local/lib/python3.10/dist-packages (from chromadb) (1.22.4)\n",
            "Collecting clickhouse-connect>=0.5.7\n",
            "  Downloading clickhouse_connect-0.5.23-cp310-cp310-manylinux_2_17_x86_64.manylinux2014_x86_64.whl (922 kB)\n",
            "\u001b[2K     \u001b[90m━━━━━━━━━━━━━━━━━━━━━━━━━━━━━━━━━━━━━━\u001b[0m \u001b[32m922.4/922.4 kB\u001b[0m \u001b[31m56.6 MB/s\u001b[0m eta \u001b[36m0:00:00\u001b[0m\n",
            "\u001b[?25hCollecting hnswlib>=0.7\n",
            "  Downloading hnswlib-0.7.0.tar.gz (33 kB)\n",
            "  Installing build dependencies ... \u001b[?25l\u001b[?25hdone\n",
            "  Getting requirements to build wheel ... \u001b[?25l\u001b[?25hdone\n",
            "  Preparing metadata (pyproject.toml) ... \u001b[?25l\u001b[?25hdone\n",
            "Requirement already satisfied: duckdb>=0.7.1 in /usr/local/lib/python3.10/dist-packages (from chromadb) (0.7.1)\n",
            "Collecting posthog>=2.4.0\n",
            "  Downloading posthog-3.0.1-py2.py3-none-any.whl (37 kB)\n",
            "Collecting requests>=2.28\n",
            "  Downloading requests-2.30.0-py3-none-any.whl (62 kB)\n",
            "\u001b[2K     \u001b[90m━━━━━━━━━━━━━━━━━━━━━━━━━━━━━━━━━━━━━━━━\u001b[0m \u001b[32m62.5/62.5 kB\u001b[0m \u001b[31m8.5 MB/s\u001b[0m eta \u001b[36m0:00:00\u001b[0m\n",
            "\u001b[?25hCollecting sentence-transformers>=2.2.2\n",
            "  Downloading sentence-transformers-2.2.2.tar.gz (85 kB)\n",
            "\u001b[2K     \u001b[90m━━━━━━━━━━━━━━━━━━━━━━━━━━━━━━━━━━━━━━━\u001b[0m \u001b[32m86.0/86.0 kB\u001b[0m \u001b[31m283.7 kB/s\u001b[0m eta \u001b[36m0:00:00\u001b[0m\n",
            "\u001b[?25h  Preparing metadata (setup.py) ... \u001b[?25l\u001b[?25hdone\n",
            "Requirement already satisfied: pytz in /usr/local/lib/python3.10/dist-packages (from clickhouse-connect>=0.5.7->chromadb) (2022.7.1)\n",
            "Requirement already satisfied: certifi in /usr/local/lib/python3.10/dist-packages (from clickhouse-connect>=0.5.7->chromadb) (2022.12.7)\n",
            "Requirement already satisfied: urllib3>=1.26 in /usr/local/lib/python3.10/dist-packages (from clickhouse-connect>=0.5.7->chromadb) (1.26.15)\n",
            "Collecting lz4\n",
            "  Downloading lz4-4.3.2-cp310-cp310-manylinux_2_17_x86_64.manylinux2014_x86_64.whl (1.3 MB)\n",
            "\u001b[2K     \u001b[90m━━━━━━━━━━━━━━━━━━━━━━━━━━━━━━━━━━━━━━━━\u001b[0m \u001b[32m1.3/1.3 MB\u001b[0m \u001b[31m74.0 MB/s\u001b[0m eta \u001b[36m0:00:00\u001b[0m\n",
            "\u001b[?25hCollecting zstandard\n",
            "  Downloading zstandard-0.21.0-cp310-cp310-manylinux_2_17_x86_64.manylinux2014_x86_64.whl (2.7 MB)\n",
            "\u001b[2K     \u001b[90m━━━━━━━━━━━━━━━━━━━━━━━━━━━━━━━━━━━━━━━━\u001b[0m \u001b[32m2.7/2.7 MB\u001b[0m \u001b[31m93.6 MB/s\u001b[0m eta \u001b[36m0:00:00\u001b[0m\n",
            "\u001b[?25hCollecting starlette<0.27.0,>=0.26.1\n",
            "  Downloading starlette-0.26.1-py3-none-any.whl (66 kB)\n",
            "\u001b[2K     \u001b[90m━━━━━━━━━━━━━━━━━━━━━━━━━━━━━━━━━━━━━━━━\u001b[0m \u001b[32m66.9/66.9 kB\u001b[0m \u001b[31m10.2 MB/s\u001b[0m eta \u001b[36m0:00:00\u001b[0m\n",
            "\u001b[?25hRequirement already satisfied: python-dateutil>=2.8.1 in /usr/local/lib/python3.10/dist-packages (from pandas>=1.3->chromadb) (2.8.2)\n",
            "Requirement already satisfied: six>=1.5 in /usr/local/lib/python3.10/dist-packages (from posthog>=2.4.0->chromadb) (1.16.0)\n",
            "Collecting backoff>=1.10.0\n",
            "  Downloading backoff-2.2.1-py3-none-any.whl (15 kB)\n",
            "Collecting monotonic>=1.5\n",
            "  Downloading monotonic-1.6-py2.py3-none-any.whl (8.2 kB)\n",
            "Requirement already satisfied: typing-extensions>=4.2.0 in /usr/local/lib/python3.10/dist-packages (from pydantic>=1.9->chromadb) (4.5.0)\n",
            "Requirement already satisfied: idna<4,>=2.5 in /usr/local/lib/python3.10/dist-packages (from requests>=2.28->chromadb) (3.4)\n",
            "Requirement already satisfied: charset-normalizer<4,>=2 in /usr/local/lib/python3.10/dist-packages (from requests>=2.28->chromadb) (2.0.12)\n",
            "Collecting transformers<5.0.0,>=4.6.0\n",
            "  Downloading transformers-4.28.1-py3-none-any.whl (7.0 MB)\n",
            "\u001b[2K     \u001b[90m━━━━━━━━━━━━━━━━━━━━━━━━━━━━━━━━━━━━━━━━\u001b[0m \u001b[32m7.0/7.0 MB\u001b[0m \u001b[31m115.3 MB/s\u001b[0m eta \u001b[36m0:00:00\u001b[0m\n",
            "\u001b[?25hRequirement already satisfied: tqdm in /usr/local/lib/python3.10/dist-packages (from sentence-transformers>=2.2.2->chromadb) (4.65.0)\n",
            "Requirement already satisfied: torch>=1.6.0 in /usr/local/lib/python3.10/dist-packages (from sentence-transformers>=2.2.2->chromadb) (2.0.0+cu118)\n",
            "Requirement already satisfied: torchvision in /usr/local/lib/python3.10/dist-packages (from sentence-transformers>=2.2.2->chromadb) (0.15.1+cu118)\n",
            "Requirement already satisfied: scikit-learn in /usr/local/lib/python3.10/dist-packages (from sentence-transformers>=2.2.2->chromadb) (1.2.2)\n",
            "Requirement already satisfied: scipy in /usr/local/lib/python3.10/dist-packages (from sentence-transformers>=2.2.2->chromadb) (1.10.1)\n",
            "Requirement already satisfied: nltk in /usr/local/lib/python3.10/dist-packages (from sentence-transformers>=2.2.2->chromadb) (3.8.1)\n",
            "Collecting sentencepiece\n",
            "  Downloading sentencepiece-0.1.99-cp310-cp310-manylinux_2_17_x86_64.manylinux2014_x86_64.whl (1.3 MB)\n",
            "\u001b[2K     \u001b[90m━━━━━━━━━━━━━━━━━━━━━━━━━━━━━━━━━━━━━━━━\u001b[0m \u001b[32m1.3/1.3 MB\u001b[0m \u001b[31m82.3 MB/s\u001b[0m eta \u001b[36m0:00:00\u001b[0m\n",
            "\u001b[?25hCollecting huggingface-hub>=0.4.0\n",
            "  Downloading huggingface_hub-0.14.1-py3-none-any.whl (224 kB)\n",
            "\u001b[2K     \u001b[90m━━━━━━━━━━━━━━━━━━━━━━━━━━━━━━━━━━━━━━\u001b[0m \u001b[32m224.5/224.5 kB\u001b[0m \u001b[31m30.8 MB/s\u001b[0m eta \u001b[36m0:00:00\u001b[0m\n",
            "\u001b[?25hCollecting h11>=0.8\n",
            "  Downloading h11-0.14.0-py3-none-any.whl (58 kB)\n",
            "\u001b[2K     \u001b[90m━━━━━━━━━━━━━━━━━━━━━━━━━━━━━━━━━━━━━━━━\u001b[0m \u001b[32m58.3/58.3 kB\u001b[0m \u001b[31m9.0 MB/s\u001b[0m eta \u001b[36m0:00:00\u001b[0m\n",
            "\u001b[?25hRequirement already satisfied: click>=7.0 in /usr/local/lib/python3.10/dist-packages (from uvicorn[standard]>=0.18.3->chromadb) (8.1.3)\n",
            "Collecting uvloop!=0.15.0,!=0.15.1,>=0.14.0\n",
            "  Downloading uvloop-0.17.0-cp310-cp310-manylinux_2_17_x86_64.manylinux2014_x86_64.whl (4.1 MB)\n",
            "\u001b[2K     \u001b[90m━━━━━━━━━━━━━━━━━━━━━━━━━━━━━━━━━━━━━━━━\u001b[0m \u001b[32m4.1/4.1 MB\u001b[0m \u001b[31m109.7 MB/s\u001b[0m eta \u001b[36m0:00:00\u001b[0m\n",
            "\u001b[?25hCollecting watchfiles>=0.13\n",
            "  Downloading watchfiles-0.19.0-cp37-abi3-manylinux_2_17_x86_64.manylinux2014_x86_64.whl (1.3 MB)\n",
            "\u001b[2K     \u001b[90m━━━━━━━━━━━━━━━━━━━━━━━━━━━━━━━━━━━━━━━━\u001b[0m \u001b[32m1.3/1.3 MB\u001b[0m \u001b[31m81.9 MB/s\u001b[0m eta \u001b[36m0:00:00\u001b[0m\n",
            "\u001b[?25hCollecting httptools>=0.5.0\n",
            "  Downloading httptools-0.5.0-cp310-cp310-manylinux_2_5_x86_64.manylinux1_x86_64.manylinux_2_17_x86_64.manylinux2014_x86_64.whl (414 kB)\n",
            "\u001b[2K     \u001b[90m━━━━━━━━━━━━━━━━━━━━━━━━━━━━━━━━━━━━━━\u001b[0m \u001b[32m414.1/414.1 kB\u001b[0m \u001b[31m46.9 MB/s\u001b[0m eta \u001b[36m0:00:00\u001b[0m\n",
            "\u001b[?25hCollecting python-dotenv>=0.13\n",
            "  Downloading python_dotenv-1.0.0-py3-none-any.whl (19 kB)\n",
            "Collecting websockets>=10.4\n",
            "  Downloading websockets-11.0.3-cp310-cp310-manylinux_2_5_x86_64.manylinux1_x86_64.manylinux_2_17_x86_64.manylinux2014_x86_64.whl (129 kB)\n",
            "\u001b[2K     \u001b[90m━━━━━━━━━━━━━━━━━━━━━━━━━━━━━━━━━━━━━━\u001b[0m \u001b[32m129.9/129.9 kB\u001b[0m \u001b[31m19.5 MB/s\u001b[0m eta \u001b[36m0:00:00\u001b[0m\n",
            "\u001b[?25hRequirement already satisfied: pyyaml>=5.1 in /usr/local/lib/python3.10/dist-packages (from uvicorn[standard]>=0.18.3->chromadb) (6.0)\n",
            "Requirement already satisfied: packaging>=20.9 in /usr/local/lib/python3.10/dist-packages (from huggingface-hub>=0.4.0->sentence-transformers>=2.2.2->chromadb) (23.1)\n",
            "Requirement already satisfied: fsspec in /usr/local/lib/python3.10/dist-packages (from huggingface-hub>=0.4.0->sentence-transformers>=2.2.2->chromadb) (2023.4.0)\n",
            "Requirement already satisfied: filelock in /usr/local/lib/python3.10/dist-packages (from huggingface-hub>=0.4.0->sentence-transformers>=2.2.2->chromadb) (3.12.0)\n",
            "Requirement already satisfied: anyio<5,>=3.4.0 in /usr/local/lib/python3.10/dist-packages (from starlette<0.27.0,>=0.26.1->fastapi>=0.85.1->chromadb) (3.6.2)\n",
            "Requirement already satisfied: networkx in /usr/local/lib/python3.10/dist-packages (from torch>=1.6.0->sentence-transformers>=2.2.2->chromadb) (3.1)\n",
            "Requirement already satisfied: sympy in /usr/local/lib/python3.10/dist-packages (from torch>=1.6.0->sentence-transformers>=2.2.2->chromadb) (1.11.1)\n",
            "Requirement already satisfied: jinja2 in /usr/local/lib/python3.10/dist-packages (from torch>=1.6.0->sentence-transformers>=2.2.2->chromadb) (3.1.2)\n",
            "Requirement already satisfied: triton==2.0.0 in /usr/local/lib/python3.10/dist-packages (from torch>=1.6.0->sentence-transformers>=2.2.2->chromadb) (2.0.0)\n",
            "Requirement already satisfied: cmake in /usr/local/lib/python3.10/dist-packages (from triton==2.0.0->torch>=1.6.0->sentence-transformers>=2.2.2->chromadb) (3.25.2)\n",
            "Requirement already satisfied: lit in /usr/local/lib/python3.10/dist-packages (from triton==2.0.0->torch>=1.6.0->sentence-transformers>=2.2.2->chromadb) (16.0.2)\n",
            "Requirement already satisfied: regex!=2019.12.17 in /usr/local/lib/python3.10/dist-packages (from transformers<5.0.0,>=4.6.0->sentence-transformers>=2.2.2->chromadb) (2022.10.31)\n",
            "Collecting tokenizers!=0.11.3,<0.14,>=0.11.1\n",
            "  Downloading tokenizers-0.13.3-cp310-cp310-manylinux_2_17_x86_64.manylinux2014_x86_64.whl (7.8 MB)\n",
            "\u001b[2K     \u001b[90m━━━━━━━━━━━━━━━━━━━━━━━━━━━━━━━━━━━━━━━━\u001b[0m \u001b[32m7.8/7.8 MB\u001b[0m \u001b[31m108.5 MB/s\u001b[0m eta \u001b[36m0:00:00\u001b[0m\n",
            "\u001b[?25hRequirement already satisfied: joblib in /usr/local/lib/python3.10/dist-packages (from nltk->sentence-transformers>=2.2.2->chromadb) (1.2.0)\n",
            "Requirement already satisfied: threadpoolctl>=2.0.0 in /usr/local/lib/python3.10/dist-packages (from scikit-learn->sentence-transformers>=2.2.2->chromadb) (3.1.0)\n",
            "Requirement already satisfied: pillow!=8.3.*,>=5.3.0 in /usr/local/lib/python3.10/dist-packages (from torchvision->sentence-transformers>=2.2.2->chromadb) (8.4.0)\n",
            "Requirement already satisfied: sniffio>=1.1 in /usr/local/lib/python3.10/dist-packages (from anyio<5,>=3.4.0->starlette<0.27.0,>=0.26.1->fastapi>=0.85.1->chromadb) (1.3.0)\n",
            "Requirement already satisfied: MarkupSafe>=2.0 in /usr/local/lib/python3.10/dist-packages (from jinja2->torch>=1.6.0->sentence-transformers>=2.2.2->chromadb) (2.1.2)\n",
            "Requirement already satisfied: mpmath>=0.19 in /usr/local/lib/python3.10/dist-packages (from sympy->torch>=1.6.0->sentence-transformers>=2.2.2->chromadb) (1.3.0)\n",
            "Building wheels for collected packages: hnswlib, sentence-transformers\n",
            "  Building wheel for hnswlib (pyproject.toml) ... \u001b[?25l\u001b[?25hdone\n",
            "  Created wheel for hnswlib: filename=hnswlib-0.7.0-cp310-cp310-linux_x86_64.whl size=2119799 sha256=1005dfac385c99ff58a37e1eeab50bddd693bee9fc5fe4d3627ee1e47bd2a7d5\n",
            "  Stored in directory: /root/.cache/pip/wheels/8a/ae/ec/235a682e0041fbaeee389843670581ec6c66872db856dfa9a4\n",
            "  Building wheel for sentence-transformers (setup.py) ... \u001b[?25l\u001b[?25hdone\n",
            "  Created wheel for sentence-transformers: filename=sentence_transformers-2.2.2-py3-none-any.whl size=125942 sha256=e78e2bd3e1bf3b6f29a602a64e7e711c13aaca341078660597de623cd2ff9e7c\n",
            "  Stored in directory: /root/.cache/pip/wheels/62/f2/10/1e606fd5f02395388f74e7462910fe851042f97238cbbd902f\n",
            "Successfully built hnswlib sentence-transformers\n",
            "Installing collected packages: tokenizers, sentencepiece, monotonic, zstandard, websockets, uvloop, requests, python-dotenv, lz4, httptools, hnswlib, h11, backoff, watchfiles, uvicorn, starlette, posthog, huggingface-hub, clickhouse-connect, transformers, fastapi, sentence-transformers, chromadb\n",
            "  Attempting uninstall: requests\n",
            "    Found existing installation: requests 2.27.1\n",
            "    Uninstalling requests-2.27.1:\n",
            "      Successfully uninstalled requests-2.27.1\n",
            "Successfully installed backoff-2.2.1 chromadb-0.3.21 clickhouse-connect-0.5.23 fastapi-0.95.1 h11-0.14.0 hnswlib-0.7.0 httptools-0.5.0 huggingface-hub-0.14.1 lz4-4.3.2 monotonic-1.6 posthog-3.0.1 python-dotenv-1.0.0 requests-2.30.0 sentence-transformers-2.2.2 sentencepiece-0.1.99 starlette-0.26.1 tokenizers-0.13.3 transformers-4.28.1 uvicorn-0.22.0 uvloop-0.17.0 watchfiles-0.19.0 websockets-11.0.3 zstandard-0.21.0\n"
          ]
        }
      ],
      "source": [
        "!pip install langchain  # 자연어 처리 및 기계 번역에 사용됩니다.\n",
        "!pip install tiktoken   # 텍스트 토큰화에 사용됩니다.\n",
        "!pip install openai     # OpenAI API와 상호작용하는 데 사용됩니다.\n",
        "!pip install google-search-results # 구글 검색 결과를 가져오는 데 사용됩니다.\n",
        "!pip install chromadb   # 벡터 데이터베이스를 이용하는 데 사용됩니다."
      ]
    },
    {
      "cell_type": "markdown",
      "source": [
        "# 1. 모델\n"
      ],
      "metadata": {
        "id": "z4r8jQYRLcoH"
      }
    },
    {
      "cell_type": "markdown",
      "source": [
        "## 1.1. 대규모언어모델 (LLMs)"
      ],
      "metadata": {
        "id": "_gz7mk8DISvW"
      }
    },
    {
      "cell_type": "markdown",
      "source": [
        "### 시작하기"
      ],
      "metadata": {
        "id": "Yw6z4f4yIiQ4"
      }
    },
    {
      "cell_type": "code",
      "source": [
        "from langchain.llms import OpenAI\n",
        "\n",
        "llm = OpenAI(temperature=0.9)\n",
        "text = \"인공지능팩토리 플랫폼은 인공지능을 위한 \bSNS이야. 이 플랫폼을 소개하기 위한 문구를 작성해\"\n",
        "print(llm(text))"
      ],
      "metadata": {
        "colab": {
          "base_uri": "https://localhost:8080/"
        },
        "id": "kHdAOoMAH794",
        "outputId": "9abc6ee6-d404-4f9a-9694-540c753f86b7"
      },
      "execution_count": null,
      "outputs": [
        {
          "output_type": "stream",
          "name": "stdout",
          "text": [
            "보자.\n",
            "\n",
            "인공지능팩토리 플랫폼은 인공지능을 위한 가장 효과적인 통합 솔루션입니다. 이 플랫폼을 통해 다양한 인공지능 기술 매치링, 제품 공유, 인공지능 학습 및 배포, 데이터 관리 및 깨어지기, 방법론 및 전문 지\n"
          ]
        }
      ]
    },
    {
      "cell_type": "markdown",
      "source": [
        "### 반복해서 생성하기"
      ],
      "metadata": {
        "id": "rCirh-p5M5XG"
      }
    },
    {
      "cell_type": "code",
      "source": [
        "llm_result = llm.generate([\"개발자를 위한 챗GPT 활용 방법을 작성해\"]*3)\n",
        "\n",
        "len(llm_result.generations)\n",
        "\n",
        "for gen_texts in llm_result.generations:\n",
        "    print(gen_texts)    "
      ],
      "metadata": {
        "colab": {
          "base_uri": "https://localhost:8080/"
        },
        "id": "q14yJ3SN8fys",
        "outputId": "a4ef9cab-96cb-4b04-8ca6-984974fcf4f1"
      },
      "execution_count": null,
      "outputs": [
        {
          "output_type": "stream",
          "name": "stdout",
          "text": [
            "[Generation(text=' 보세요.\\n\\n1. GPT(Generative Pre-trained Transformer)란 사전 훈련된 딥러닝 모델 입니다. \\n\\n2. GPT는 텍스트를 생성하는데 사용됩니다. 자연어 생성 및 이해를 장려합니다. \\n\\n3. GPT를 사용하는 방법은 매우 쉽습니다. GPT는 프레임워크에 연결하고 자연어 처리 기술', generation_info={'finish_reason': 'length', 'logprobs': None})]\n",
            "[Generation(text=' 보세요.\\n\\n1. GPT(Generative Pre-trained Transformer)은 사전 학습된 모델로 주어진 입력 단어 집합에 따라 새로운 단어 또는 문장을 생성하는 비슷한 모델을 말합니다. \\n\\n2. GPT는 입력 단어 또는 문장을 인공 지능 모델이 입력을 받아 다음 단어 또는 문장을 생성하', generation_info={'finish_reason': 'length', 'logprobs': None})]\n",
            "[Generation(text='보자\\n\\n1. 학습 데이터를 수집하기: 사용자가 챗봇과 대화하는 데이터를 분석하고 학습하는데 필요한 데이터를 수집해야 한다. 이 데이터는 사용자가 보내는 메시지와 그 답변에 대한 정보를 포함한다.\\n\\n2. 입력 데이터를 준비하', generation_info={'finish_reason': 'length', 'logprobs': None})]\n"
          ]
        }
      ]
    },
    {
      "cell_type": "code",
      "source": [
        "llm_result.llm_output # 사용한 모델에 대한 정보 출력"
      ],
      "metadata": {
        "colab": {
          "base_uri": "https://localhost:8080/"
        },
        "id": "VT7xys0oM9H7",
        "outputId": "dd0a1976-4a0f-4289-ea8d-f6cdc5c72c53"
      },
      "execution_count": null,
      "outputs": [
        {
          "output_type": "execute_result",
          "data": {
            "text/plain": [
              "{'token_usage': {'completion_tokens': 764,\n",
              "  'prompt_tokens': 135,\n",
              "  'total_tokens': 899},\n",
              " 'model_name': 'text-davinci-003'}"
            ]
          },
          "metadata": {},
          "execution_count": 7
        }
      ]
    },
    {
      "cell_type": "markdown",
      "source": [
        "### 토큰 개수 구하기"
      ],
      "metadata": {
        "id": "i7m8oxVhK2n7"
      }
    },
    {
      "cell_type": "code",
      "source": [
        "llm.get_num_tokens(\"Hello. I am Tae Young Lee from MODULABS\")"
      ],
      "metadata": {
        "colab": {
          "base_uri": "https://localhost:8080/"
        },
        "id": "AayE2KXYLH5d",
        "outputId": "614bab96-cbe3-4ff2-a1d5-2a48a2f513b1"
      },
      "execution_count": null,
      "outputs": [
        {
          "output_type": "execute_result",
          "data": {
            "text/plain": [
              "13"
            ]
          },
          "metadata": {},
          "execution_count": 5
        }
      ]
    },
    {
      "cell_type": "code",
      "source": [
        "llm.get_num_tokens(\"안녕하세요. 저는 서울과학기술대학교 박사과정의 이태영입니다.\")"
      ],
      "metadata": {
        "colab": {
          "base_uri": "https://localhost:8080/"
        },
        "id": "_byp7yIb7vVQ",
        "outputId": "7c97d108-0cf7-491f-a95c-ce97dc27ef28"
      },
      "execution_count": null,
      "outputs": [
        {
          "output_type": "execute_result",
          "data": {
            "text/plain": [
              "76"
            ]
          },
          "metadata": {},
          "execution_count": 10
        }
      ]
    },
    {
      "cell_type": "markdown",
      "source": [
        "## 1.2. 채팅 모델"
      ],
      "metadata": {
        "id": "QSChuBEUMKCF"
      }
    },
    {
      "cell_type": "code",
      "source": [
        "from langchain.chat_models import ChatOpenAI\n",
        "from langchain.schema import (\n",
        "    AIMessage,\n",
        "    HumanMessage,\n",
        "    SystemMessage\n",
        ")\n",
        "\n",
        "chat = ChatOpenAI(temperature=0)\n",
        "\n",
        "chat([HumanMessage(content=\"Translate this sentence from English to Korean. I love programming.\")])"
      ],
      "metadata": {
        "colab": {
          "base_uri": "https://localhost:8080/"
        },
        "id": "o_U2E-qvlMF5",
        "outputId": "1792d1e4-b570-497c-f91d-c92d59dd979b"
      },
      "execution_count": null,
      "outputs": [
        {
          "output_type": "execute_result",
          "data": {
            "text/plain": [
              "AIMessage(content='저는 프로그래밍을 좋아합니다.', additional_kwargs={})"
            ]
          },
          "metadata": {},
          "execution_count": 12
        }
      ]
    },
    {
      "cell_type": "code",
      "source": [
        "messages = [\n",
        "    SystemMessage(content=\"You are a helpful assistant that translates English to Korean.\"),\n",
        "    HumanMessage(content=\"Translate this sentence from English to Korean. I love programming.\")\n",
        "]\n",
        "\n",
        "chat(messages)"
      ],
      "metadata": {
        "colab": {
          "base_uri": "https://localhost:8080/"
        },
        "id": "winqmhHhlOqg",
        "outputId": "dc2f0d5b-39c6-4b60-bedf-f992e80b38ae"
      },
      "execution_count": null,
      "outputs": [
        {
          "output_type": "execute_result",
          "data": {
            "text/plain": [
              "AIMessage(content='저는 프로그래밍을 좋아합니다.', additional_kwargs={})"
            ]
          },
          "metadata": {},
          "execution_count": 13
        }
      ]
    },
    {
      "cell_type": "code",
      "source": [
        "batch_messages = [\n",
        "    [\n",
        "        SystemMessage(content=\"You are a helpful assistant that translates English to Korean.\"),\n",
        "        HumanMessage(content=\"Translate this sentence from English to Korean. I love programming.\")\n",
        "    ],\n",
        "    [\n",
        "        SystemMessage(content=\"You are a helpful assistant that translates English to Korean.\"),\n",
        "        HumanMessage(content=\"Translate this sentence from English to Korean. I love artificial intelligence.\")\n",
        "    ],\n",
        "]\n",
        "\n",
        "result = chat.generate(batch_messages)\n",
        "\n",
        "result"
      ],
      "metadata": {
        "colab": {
          "base_uri": "https://localhost:8080/"
        },
        "id": "sY-r5JkzlQoA",
        "outputId": "a643795d-985a-4f84-9a00-cf886bd05883"
      },
      "execution_count": null,
      "outputs": [
        {
          "output_type": "stream",
          "name": "stderr",
          "text": [
            "WARNING:langchain.chat_models.openai:Retrying langchain.chat_models.openai.ChatOpenAI.completion_with_retry.<locals>._completion_with_retry in 1.0 seconds as it raised RateLimitError: Rate limit reached for default-gpt-3.5-turbo in organization org-CXs28jyuEhW3WE3NmUBSfz3L on requests per min. Limit: 3 / min. Please try again in 20s. Contact support@openai.com if you continue to have issues. Please add a payment method to your account to increase your rate limit. Visit https://platform.openai.com/account/billing to add a payment method..\n",
            "WARNING:langchain.chat_models.openai:Retrying langchain.chat_models.openai.ChatOpenAI.completion_with_retry.<locals>._completion_with_retry in 2.0 seconds as it raised RateLimitError: Rate limit reached for default-gpt-3.5-turbo in organization org-CXs28jyuEhW3WE3NmUBSfz3L on requests per min. Limit: 3 / min. Please try again in 20s. Contact support@openai.com if you continue to have issues. Please add a payment method to your account to increase your rate limit. Visit https://platform.openai.com/account/billing to add a payment method..\n",
            "WARNING:langchain.chat_models.openai:Retrying langchain.chat_models.openai.ChatOpenAI.completion_with_retry.<locals>._completion_with_retry in 4.0 seconds as it raised RateLimitError: Rate limit reached for default-gpt-3.5-turbo in organization org-CXs28jyuEhW3WE3NmUBSfz3L on requests per min. Limit: 3 / min. Please try again in 20s. Contact support@openai.com if you continue to have issues. Please add a payment method to your account to increase your rate limit. Visit https://platform.openai.com/account/billing to add a payment method..\n",
            "WARNING:langchain.chat_models.openai:Retrying langchain.chat_models.openai.ChatOpenAI.completion_with_retry.<locals>._completion_with_retry in 8.0 seconds as it raised RateLimitError: Rate limit reached for default-gpt-3.5-turbo in organization org-CXs28jyuEhW3WE3NmUBSfz3L on requests per min. Limit: 3 / min. Please try again in 20s. Contact support@openai.com if you continue to have issues. Please add a payment method to your account to increase your rate limit. Visit https://platform.openai.com/account/billing to add a payment method..\n"
          ]
        },
        {
          "output_type": "execute_result",
          "data": {
            "text/plain": [
              "LLMResult(generations=[[ChatGeneration(text='저는 프로그래밍을 좋아합니다.', generation_info=None, message=AIMessage(content='저는 프로그래밍을 좋아합니다.', additional_kwargs={}))], [ChatGeneration(text='나는 인공지능을 사랑합니다.', generation_info=None, message=AIMessage(content='나는 인공지능을 사랑합니다.', additional_kwargs={}))]], llm_output={'token_usage': {'prompt_tokens': 73, 'completion_tokens': 26, 'total_tokens': 99}, 'model_name': 'gpt-3.5-turbo'})"
            ]
          },
          "metadata": {},
          "execution_count": 14
        }
      ]
    },
    {
      "cell_type": "markdown",
      "source": [
        "## 1.3. 텍스트 임베딩 모델"
      ],
      "metadata": {
        "id": "umkgIV74N9Cm"
      }
    },
    {
      "cell_type": "code",
      "source": [
        "from langchain.embeddings import OpenAIEmbeddings\n",
        "\n",
        "embeddings = OpenAIEmbeddings()\n",
        "\n",
        "text = \"이 문서는 시험 문서입니다.\"\n",
        "\n",
        "query_result = embeddings.embed_query(text)\n",
        "doc_result = embeddings.embed_documents([text])\n",
        "\n",
        "print(query_result)\n",
        "print(doc_result)"
      ],
      "metadata": {
        "colab": {
          "base_uri": "https://localhost:8080/"
        },
        "id": "adSdMvfQOEis",
        "outputId": "fa8be1df-2654-4784-9c89-b6b629caae77"
      },
      "execution_count": null,
      "outputs": [
        {
          "output_type": "stream",
          "name": "stdout",
          "text": [
            "[-0.001326117837139328, -0.008679440781908096, -0.0007732924653825813, -0.022106383853839964, -0.01967958830267894, 0.011941691317853227, -0.018379992901444812, -0.004008190989876874, -0.029201115085801053, 0.002272634430882877, -0.0036501393857251317, 0.014043587553044454, -0.015091221093747645, 0.013121935873929262, -0.004850276059768359, 0.007843986728446519, 0.00906401552045694, -0.030235486593644428, -0.010675248204801046, -0.032436842487349085, 0.01799541816289597, -0.02013046761759167, -0.02140354081575123, 0.003013602786645353, 0.0006812930495987466, 0.013354006547815538, 0.010602311680684717, -0.04068529420966657, -0.008367803498798114, 2.0798292972122026e-05, 0.009143582129680645, -0.0035738875862244804, -0.013778363659653702, -0.029386770507323034, 0.005178489952630578, 0.008062796300795509, 0.0054403983378063766, -0.01083438235457099, 0.008089318503870077, -0.00930271627945059, -0.0013642437368896537, 0.0027235144442875094, 0.006507923065154228, -0.005506704311154065, 0.040817907087684485, 0.0032390426769323523, 0.01895022306151564, -0.03050071048703518, -0.011809079371157851, 0.04065877386923707, 0.010105018044730222, 0.009103798825068793, -0.028882846786261164, -0.020647655234158423, 0.015237093210657773, 0.0032821414897591596, -0.002413534449623739, 0.015608406847669332, -0.004044659251935039, -0.019149140515897434, -0.025368633458462565, 0.008268344771607216, -0.02314075536168334, 0.012200284194814072, -0.0054901277014018255, 0.007373214829905327, -0.011053191926919982, 0.01023099897499569, -0.019931550163209875, 0.0017421872261779558, 0.018194335617277766, 0.034505585503035834, -0.00820866934902817, 0.004041344209381351, 0.043045783321818645, -0.0030334944389512793, -0.014388378055658912, -0.016404076665196523, 0.0034810591769715905, -0.01185549276087708, 0.014308811446435206, -0.014308811446435206, -0.008666179680370811, -0.001497684327808135, -0.007439520803253015, 0.020077423211442534, -0.007664960926370648, 0.012750623168240235, -0.021005705906987634, -0.016775391233530616, 0.009130321028143361, 0.022106383853839964, -0.015263616345054874, 0.015966457520498543, -0.0072406033488712175, 0.024122082463377575, 0.019255231190840775, 0.034028182122403466, -0.004541953353550799, -0.0350095092240977, -0.0019278438118531024, 0.00864628849372615, -0.01446794559620515, 0.010144801349342075, -0.05691697562355587, -0.02136375844246191, 0.007724636348949694, -0.019745894741687895, 0.012618011221544859, -0.028431965608703366, -0.009700552119536719, 0.007505826776600703, -0.020210036089460443, -0.05076379098264476, 0.020090685244302353, 0.011199064975152643, -0.005642631300403128, -0.03620301767567862, -0.00518512050339922, -0.004538638310997112, -0.0029688462197110686, 0.0057221983752881005, 0.039757011514121476, -0.014772952794207756, 0.004329774797631717, 0.006179709172292008, -0.012293111905575062, -0.040207890829034205, 0.0007683194940984414, -0.013871192301737225, 0.04177271012365909, 0.03604388073194108, 0.01812803104091388, 0.007731266899718336, -0.023127495191468585, -0.0058945936265953295, -0.02048852015306595, 0.01843303730759395, -0.04217054503242268, -0.018379992901444812, 0.01371205815196728, 0.009501633733832388, -0.02914806881700685, -0.050445520820459805, -0.0007782653784590629, 0.012949540622622033, 0.045565409377708255, -0.0027450638507009128, 0.009223149670226884, -0.00803627409772094, 0.01190853809834875, -0.02326010620684143, 0.016510167340139863, 0.020342647104833286, 0.02520950024001515, 0.011033299808952788, 0.0011056507435134935, -0.011179172857185449, -0.014096631959193591, -0.017159964109434392, -0.0022311931393329135, 0.0179688959598214, 0.022424652153379854, -0.01688148004582889, 8.593865250602223e-05, 0.03068636590855716, -0.009090537723531508, 0.018698261200984702, 0.004982887540802469, -0.008606504257791765, -0.031800305888269306, 0.02413534449623739, -0.012140608772235025, 0.004034713658612709, -0.027264983085487148, 0.015741017863042175, 0.013552924002197335, -0.016059286162582065, -0.016457122933990726, -0.007757789102792905, -0.03559300141702834, 0.0064316714984842096, 0.01478621389574504, 0.02172180911529112, -0.0012341184213554934, 0.007499196225832061, 0.003865633449859168, 0.01190853809834875, -0.004014821540645516, -0.005132076097250083, 0.02949285931962131, 0.02605821446369148, -0.0027036227919815825, -0.012525182579461338, -0.6407801217693887, -0.013042368333383025, -0.008924772557331654, 0.00685602907598364, 0.020024378805293397, 0.007054946530365438, 0.021814637757374643, 0.01639081649498177, -0.007664960926370648, 0.028882846786261164, -0.004817122840263882, -0.011994735724002366, -0.01811476900805406, -0.010489591851956533, -0.014693385253661517, -0.023366195019139703, -0.021297452003452955, -0.014985131350126838, 0.002978792045864032, 0.00224113919831651, -0.0012482083999465162, 0.01314845807700383, -0.018207597650137585, 0.014693385253661517, 0.005168544359308249, 0.01905631373645898, 0.007359953728368043, -0.021933988602532734, 0.004634781529973056, 0.004707718054089386, -0.011789187253190659, 0.01956023745752085, 0.014083370857656307, 0.007041685428828153, 0.016602994119578322, -0.00335507801387549, -0.021615720302992844, -0.01718648631250896, 0.032808153330393046, 0.033471213995192456, -0.010197845755491212, -0.007976598675141895, 0.014892302708043315, -0.00362361694981993, 0.010986886419233559, 0.01295617070772941, 0.01956023745752085, -0.00010867949692460217, 0.029227637288875622, 0.015449272697899388, -0.03535429972671216, -0.007492565675063419, 0.020515042356140517, 0.0019775732918638684, -0.002950612088681986, -0.0004952221418120474, 0.026243871747858524, -0.016695822761661844, -0.005748720578362669, 0.01689474021604364, -0.002580956904269803, 0.020090685244302353, 0.0017886014308044007, -0.006683633824676411, -0.03113724708611496, 0.021244407597303817, -0.017345621393601438, 0.007061577546795346, -0.013513140697585482, -0.022517480795463375, 0.00636868056769021, -0.021350496409602092, -0.00592774638043854, 0.00315947560204738, 0.014759691692670471, 0.01068850930633833, 0.033683391619789005, -0.015475794900973956, -0.014348594751047059, 0.00789040104948828, 0.01502491465473869, 0.004946419278744303, -0.005410560626516853, -0.01093384108176189, -0.016191899040599974, -0.015502317104048525, -0.05073726691692513, -0.03278163298996354, -0.009130321028143361, -0.006988641022679016, 0.029678516603788355, 0.011722881745504237, 0.012379309531228677, -0.0025610650191332436, 0.00550338880293911, 0.01487904160650603, 0.007684852578676574, -0.005387353465995973, 0.015939935317423975, 0.0013484960041911537, -0.0037926969257428378, 0.007340062076062116, 0.019175662718972003, 0.006418410396946925, 0.031243335898413233, 0.0029041980004708575, -0.029996784903328244, -0.01753127681512342, 0.014070109756119022, -0.010138170332912167, 0.005118814530051532, 0.00220964373291951, -0.010323827617079211, 0.000228962530453901, -0.02231856334108158, -0.027954564090716064, 0.003809273302664443, 0.03378948043208728, -0.006948857252405897, 0.00047574475341001526, 0.01936132000313905, -0.012425723852270438, 0.02481166346860649, 0.0047408712735938635, -0.001256496588407319, 0.01030393549911202, 0.005476866599864541, -0.009587831359486002, -0.014945348045514985, -0.006802984204173236, -0.03702520783363531, -0.012087563434763356, 0.030474186421315545, -0.03129638216720743, 0.0067134715359659335, -0.00035079959931960035, 0.015913413114349406, -0.013685535948892711, 0.029201115085801053, -0.015237093210657773, -0.0108410133710009, 0.0007749501030747418, -0.017982157992681217, -0.018578910355826612, -0.0174914944418341, -0.004618205385882084, -0.02434752212083394, -0.004594998225361203, -0.0016891425871981853, 0.0033103216797718384, -0.005821657102478999, 0.0064814008620796585, -0.00844737010802182, -0.015263616345054874, 0.002579299150162326, 0.00015996295406411039, -0.004144117979125938, -0.016656040388372522, -0.018074986634764742, -0.005161913808539606, -0.0017405295884857952, 0.012671055627693998, -0.008772269423991619, 0.005340939610615478, -0.012976062825696601, -0.04320491654026606, -0.0411096531841498, 0.01780976274137399, -0.024188388902386528, -0.04360275517431978, -0.02393642704185559, 0.008613135274221674, -0.009150213146110553, 0.0024516602329587482, 0.011550486494197008, -0.018645216794835565, 0.002516308452198959, -0.0036733463134153792, 0.0045485839043194415, -0.024626008047084508, 0.004359612508921241, 0.010197845755491212, -0.0020803472944390883, 0.007353323177599401, 0.010191215670383837, 0.020501782185925764, -0.005921115829669898, -0.007399737498641162, -0.015382966258890433, -0.004253522765300433, 0.003796012201127159, 0.016934524451978027, 0.003091512107422848, 0.006501292514385586, -0.00952152585179958, 0.015926675147209222, -0.021920726569672918, 0.009322608397417782, 0.010794599049959138, 0.03134942657335657, 0.03328555671102541, 0.02015698982066624, 0.01629798785289825, -0.021761593351225506, 0.010158062450879359, -0.021032228110062202, -0.018353470698370244, -0.004333089840185406, 0.0172925769874523, -0.008394325701872683, 0.010124909231374882, -0.021231145564444002, -0.023127495191468585, 0.0009481742314357094, -0.0070483159795967955, 0.011484180055188054, -0.013002585028771172, -0.008659549595263435, -0.015648191083603716, 0.0003808444716648996, -0.0026008485565757297, 0.00203393320622796, 0.014136416195127977, -0.011510702258262622, -0.009786749745190332, 0.01792911358653208, 0.021032228110062202, 0.016470383104205476, 0.031216813695338665, -0.014189460601277114, -0.03248988689349822, -0.011822340472695135, -0.00039327681256376196, 0.027039541565385718, 0.02530232701945361, 0.009249671873301453, 0.029095024410857713, -0.03235727401548031, 0.019440886612362755, 0.016669300558587275, 0.007651699824833364, 0.01872478340405927, 0.009660767883602333, -0.009143582129680645, 0.028246310187181385, 0.0035573109764722418, 0.022862271298077833, 0.007154405723217603, -0.0056161090973285595, 0.01792911358653208, -0.022981622143235927, -0.004585052166377607, 0.012220175381458732, -0.0037926969257428378, 0.008381064600335398, -0.017650627660281512, 0.002420165000392381, 0.012054411146581411, 0.013698797050429996, 0.022570525201612512, 0.015595145746132048, 0.016656040388372522, 0.003733021735994425, 0.017425188002825144, 0.023498807897157612, 0.011789187253190659, 0.001296280125849805, -0.008467262225989014, -0.009700552119536719, -0.025368633458462565, -0.006962118353943181, -0.005092292326976964, 0.0010832724600463514, -0.015648191083603716, -0.005045878471596469, -0.005261372535730505, 0.037980014594900045, -0.01115928167054079, 0.018645216794835565, -0.00935576161692226, -0.012478768258419575, -0.01200799682553965, -0.010900688793579945, 0.03681303020903876, 0.007359953728368043, -0.015913413114349406, -0.0048635371613056436, 0.007505826776600703, -0.031057678614246187, 0.030845500989649638, 0.0017057190805351073, 0.0036136711236669666, 0.007592024402254318, -0.020979183703913065, -0.022888793501152402, -0.013380528750890106, 0.006408464337963328, -0.0029008827250865364, 0.0207537440464567, 0.0006439959686945012, 0.011318415820310733, -0.01566145125381847, 0.00107415539453181, -0.016987568858127165, 0.02343250145814866, -0.00021362929448992855, -0.005214958214688744, -0.020196774056600628, -0.006322266712309714, -0.0076450692740647214, -0.006176393664077054, -0.005957584091728064, -0.039040910168463054, -0.03299381061456009, -0.004870167712074286, -0.00798985977667918, -0.008095949520299987, -0.004803861738726598, 0.012757253253347612, -0.009501633733832388, -0.009309347295880498, 0.014520990002354288, -0.007379845846335236, 0.002683730906845023, 0.019454148645222574, -0.011444396750576201, 0.012067672248118696, -0.013068891467780125, -0.0006423383310023407, -0.0025378578586123628, -0.0263499605601568, -0.021536153693769138, 0.004770708984883387, -0.01083438235457099, -0.0022875532865276383, -0.013645752644280858, 0.012027888943506843, -0.00952152585179958, 0.010734923627380093, 0.017663889693141328, 0.003693238198551939, -0.007704744696643767, 0.011583638782378954, -0.0013393789386766124, -0.011238848279764495, 0.00035017797063312554, 0.005738774985040339, 0.0003725562249964386, 0.007830725626909235, -0.023352934848924953, 0.0017637366325913594, 0.015276877446592159, 0.012631272323082143, -0.029811127619161198, -0.017571061051057806, 0.003636878051357214, -0.0020505095831495654, 0.005118814530051532, -0.00012059384059657893, 0.09781445118310912, -0.013592707306809188, 0.014109893060730875, -0.013327484344740969, 0.016722344964736412, 0.02509014939485706, -0.006371996075905164, 0.0020919508746995285, 0.0032688803882218753, -0.0032108627197503068, 0.0005043392073265886, 0.004823753391032524, 0.013042368333383025, -0.014070109756119022, -0.012094194451193264, 0.018963485094375454, -0.007996490793109087, -0.033232512304876276, -0.013194872398045593, 0.012923018419547464, 0.006070304386117512, 0.009853055252876754, 0.012717469948735759, -0.0024185072462849042, -0.026031692260616912, -0.00449222398995535, -0.021536153693769138, -8.112111022137285e-05, 0.002957242639450628, -0.016735606997596228, -0.021761593351225506, -0.022172690292848917, -0.03455862990918497, -0.02227877910514719, 0.015820586334910947, -0.0073466926268307585, -0.015064697959350544, -0.03848393831596192, -0.008938033658868938, 0.02914806881700685, -0.00473755576537891, 0.017756718335224853, 0.006236069086656099, -0.02044873591713156, 0.01441490025873348, -0.01779650070851417, -0.006408464337963328, 0.00107415539453181, -0.008301497059789161, 0.00350095106210815, 0.02989069609102997, -0.008467262225989014, -0.000330079011752277, -0.014149677296665261, -0.005977476209695256, 0.009581201274378627, 0.012644533424619428, -0.002879333318673133, -0.03052723269010975, 0.013261177905732014, -0.011457657852113485, 0.00935576161692226, 0.004399395813533094, -0.013433573157039243, -0.014282289243360637, -0.010628833883759285, -0.022716398249845175, 0.006647165562618245, 0.0050293018618442304, 0.007021793776522227, -0.01013154024780479, -0.0022875532865276383, 0.0207537440464567, -0.007333431525293474, 0.010463069648881964, 0.018035202398830354, -0.013672274847355427, 0.015595145746132048, -0.019719372538613326, 0.013048999349812932, 0.022570525201612512, -0.023047926719599814, -0.002100239179575648, 9.137780892523179e-05, -0.021589198099918275, 0.007578763300717033, -0.022782704688854127, 0.01824738188607197, 0.035699090229326616, 0.005301155840342358, 0.010284043381144827, -0.02898893559855944, -0.022384867917445466, -0.0003592950361476668, 0.005941007947637091, -0.007373214829905327, 0.012432354868700346, -0.007718005798181052, 0.0015871972288460708, 0.015767540066116744, -0.015475794900973956, -0.021562675896843707, 0.02015698982066624, -0.0036203016744356087, -0.02914806881700685, -0.0016477014120635386, -0.00844737010802182, 0.0006763200783146066, 0.005214958214688744, -0.008129101808481932, -0.022093121820980145, -0.03951830982380529, 0.015939935317423975, -0.008082688418762703, 0.0026688120512002615, 0.031375946913786076, -0.0001315757485148008, -0.020117207447376922, -0.0027632979817299955, 0.023008144346310495, -0.03763522409228559, -0.018830872216357545, 0.008845205948107948, 0.039624398636103564, 0.018234119853212154, 0.011258740397731688, -0.006935596150868612, -0.013698797050429996, 0.029307203898099328, -0.005277948679821477, 0.010920579980224606, -0.017226270548443348, 0.013088782654424785, -0.018539126119892224, 0.011146020569003504, 0.016112330568731202, 0.0041640100970931305, 0.0415074880929134, -0.0034114381610702146, 0.020660915404373176, 0.048986790338133204, 0.023167277564757907, -0.002037248481612281, 0.002481497944248271, -0.019202186784691638, 0.0023604898106439685, 0.002275949706267198, 0.010821121253033706, -0.0092098885686896, -0.011504072173155248, -0.013274439007269299, 0.007664960926370648, -0.010953733199729082, 0.016642778355512707, 0.022238994869212807, 0.020210036089460443, -0.0405792053973683, 0.0042700993750526715, 0.019586759660595417, 0.003229096850779389, -0.02457296364093537, 0.0056061630383449634, -0.014162938398202546, -0.005088977284423276, 0.019600021693455233, 0.012352787328154109, 0.011769295135223467, -0.016324510055972817, 0.013659013745818143, 0.0008884989252719802, -0.002814685099432922, -0.008294866974681785, -0.008188777231060977, 0.002207986211642666, 0.010410025242732827, -0.03172073741640053, -0.013121935873929262, -0.003229096850779389, 0.011165911755648164, 0.015555361510197662, 0.02294183790730154, -0.01007849491033312, 0.011112867349499027, -0.018883918485151748, -0.0075190878781379875, -0.0004517088904583708, 0.027636295791176175, 0.02384359839977207, 0.00922977975533426, 0.02493101431376458, 0.037343477995820266, 0.014428161360270765, -0.02172180911529112, 0.024506657201926418, -0.008076057402332793, -0.007505826776600703, 0.03471776312763238, 0.037555655620416815, -0.02467905245323365, -0.019003267467664776, -0.002917459102008142, 0.015091221093747645, 0.017266054784377732, -0.017584323083917622, 0.010211106857028496, 0.016801913436605184, 0.005092292326976964, 0.00859324315625448, -0.009349130600492351, -0.04235620231658973, 0.03625606208182776, 0.011961582504497888, 0.009044123402489746, -0.014295550344897922, -0.011291893617236164, -0.005079031225439679, 0.029041980004708576, -0.02608473666676605, 0.023352934848924953, 0.0072406033488712175, -0.030341575405942702, -0.017266054784377732, -0.0030401249897199214, -0.03291424586798145, -0.00685602907598364, -0.006842767974446356, 0.03599083632579194, -0.01147091895365077, -0.012571596900503098, 0.010821121253033706, 0.016576471916503754, 0.002511335655537794, 0.016231681413889292, -0.007877139947950995, 0.033895572969675686, 0.004465701786880782, -0.0092098885686896, 0.004217054503242268, -0.0010782995469698698, 0.013181611296508309, 0.006007313455323513, 0.0021317344121420147, 0.008878359167612426, -0.006325581754863402, -0.0049729419474801384, -0.0007848959874353634, 0.016788651403745365, -0.008049535199258225, -0.012279850804037777, -0.025169716004080765, -0.005009410209538304, -0.023498807897157612, -0.02433426195061919, -0.0023041296634492437, 0.05378733703430611, -0.014905563809580599, -0.0024765249147564727, -0.019639804066744555, 0.028166741715312613, -0.015727757692827422, -0.016311249885758064, 0.0221594282599891, 0.02481166346860649, -0.006889181829826851, 0.02664170665662212, -0.02026308049560958, 0.0024599485378348673, 0.009992297284679506, 0.013937497809423646, 0.00041979916115747636, -0.016483645137065295, 0.03519516650826475, -0.019321535767204665, -0.02739759410085999, -0.04272751688492382, -0.009640876696957672, 0.017769978505439602, -0.006057043284580228, -0.012193653178384164, -0.011033299808952788, -0.0038788945513964523, 0.023299890442775813, 0.015528839307123093, -0.011404613445964348, 0.0014562431526734883, -0.008407586803409967, 0.0068361374236777135, 0.032012483512865855, -0.014348594751047059, -0.04654673647940249, 0.011232218194657119, -0.007751158552024262, 0.004054605310918636, -0.005214958214688744, -0.024785141265531923, 0.000561942437271288, 0.017557799018197987, 0.002680415631460702, -0.02710584800439467, -0.014375116954121627, -0.013990543146895316, -0.004840330000784762, -0.008102579605407362, 4.862863767821075e-06, -0.005214958214688744, -0.003796012201127159, 0.007180927926292172, -0.0033169522305404806, 0.03230422960933117, -0.020687437607447744, -0.0014172883758694242, -0.008109210621837271, -0.02043547574691681, -0.01873804543691909, -0.00937565280356692, -0.0037562286636846727, 0.025289066849238855, 0.016656040388372522, -0.016762129200670797, -0.02601843209040216, -0.007857247829983803, -0.04301926298138914, 0.018578910355826612, 0.013559555018627243, 0.007790942322297382, 0.0023488862303835283, 0.01738540376689076, -0.001053434865172145, 0.03302033468027973, 0.0018714837810736942, 0.028697189502094118, -0.03363034721363987, -0.02160245827013303, 0.013460095360113812, 0.002247769749085152, -0.017332359360741623, 0.014361855852584343, 0.002755009676853876, -0.016841695809894502, 0.008865097134752609, 0.013241286719087354, 0.008904881370686995, 0.03416079500042137, 0.001287163060335264, -0.034744287193352014, 0.005612793589113606, 0.008732486119379766, -0.010436547445807395, -0.007618546605328886, 0.02060787099822404, -0.005937692439422137, 0.0063753115841201176, -0.010589050579147432, -0.005301155840342358, -0.006816245771371787, -0.0048071772469415516, 0.013354006547815538, -0.016735606997596228, -0.0011777583905760852, 0.0023555167811521705, 0.002474867393479629, 0.007054946530365438, -0.007943445455637417, 0.00017933671828251058, -8.749269511838002e-05, 0.0070483159795967955, 0.025925603448318634, -0.0037197604016265076, -0.01763736749006676, -0.017942373756746833, 0.022384867917445466, -0.020037640838153216, 0.006176393664077054, 0.00952815686822949, -0.00010722905666800441, -0.0038788945513964523, 0.00488342881361157, 0.005987421803017586, -0.006982010471910374, 0.007035054878059511, 0.013241286719087354, -0.013725319253504564, -0.034293407878439285, 0.019878505757060738, 0.01812803104091388, -0.028431965608703366, -0.023472285694083043, -0.014892302708043315, -0.005609478546559917, -0.005128760589035129, -0.019546977287306096, -0.0011661548103156449, -0.018857394419432114, 0.0076450692740647214, 0.0452471392155233, -0.010403394226302919, 0.016046025992367312, -0.023923165008995776, -0.0014355225068985067, -0.006428355990269256, 0.017252792751517917, 0.2319114847884755, 0.010635464900189193, -0.005198381604936505, 0.039810055920270614, 0.006590805648254154, 0.03768826849843473, 0.01700083089098698, -0.005957584091728064, -0.007379845846335236, 0.020846572688540222, 0.0021864368052292625, 0.006749939798024099, -0.00568904562144489, 0.0034777439015872694, -0.011848862675769706, -0.024241433308535665, -0.014282289243360637, -0.012624641306652236, 0.004634781529973056, -0.01863195476197575, 0.004313198187879479, 0.0002699892961655076, -0.003868948725243489, -0.0037860663749741956, 0.012611380205114951, -0.01624494344674911, -0.015117743296822214, 0.0001711520812457669, 0.017889329350597696, 0.01658973394936357, -0.011756034033686183, -0.0050193558028606335, 0.012425723852270438, -0.00803627409772094, -0.03336512518289418, -0.008102579605407362, 0.03156160419795312, 0.007651699824833364, 0.024201650935246344, 0.0172395307186581, -0.015290138548129443, -0.011590269798808861, 0.01746497223875953, -0.01686821801296907, -0.018684999168124886, 0.024559701608075555, -0.02821978612146175, -0.0016443861366792175, -0.03039461981209184, 0.01008512592676303, -0.020369169307907855, -0.005032616904397918, 0.02062113116843879, 0.005035932412612873, 0.02186768216352378, -0.008560090868072537, 0.018074986634764742, -0.01324791680419473, 0.01690800224890346, -0.004919897075669735, -0.00323241212616371, 0.005400614567533257, -0.04654673647940249, 0.02864414509594498, -0.0198254613509116, -0.005453659439343661, -0.04026093523518334, 0.01432207254797249, -0.009435328226145966, -0.0011984789199357502, 0.005834918204016284, -0.006100142097407036, 0.012472138173312199, 0.006524499674906466, -0.02544820006768627, -0.023366195019139703, 0.03230422960933117, 0.009693921103106809, 0.020952661500838497, 0.022703136216985356, -0.024427090592702712, 0.010191215670383837, -0.008566720953179912, 0.014905563809580599, -0.03378948043208728, -0.013340745446278253, -0.003461167524665664, -0.023299890442775813, -0.011822340472695135, -0.02483818567168106, -0.017876067317737877, -0.008202038332598261, -0.005642631300403128, -0.026243871747858524, -0.0021267613826502167, 0.010555897359642954, -0.003330213332077765, 0.027981086293790633, -0.0017604213572070383, 0.013367267649352822, -0.026429527169380507, 0.04421276770767993, 0.009866316354414038, 0.028087175106088907, 0.011344938023385303, 0.010111648129837598, -0.024002731618219482, -0.013413681970394583, 0.009800010846727616, -0.019202186784691638, -0.011112867349499027, 0.0018797719695344969, 0.016656040388372522, -0.009687291017999434, 0.008871728151182517, 0.014574034408503425, 0.014096631959193591, -0.019905027960135307, 0.011099606247961743, -0.01778324053829942, -0.007678222027907932, -0.008487154343956206, -0.023246846036626675, 0.008400956718302592, 0.026283654121147845, -0.022358345714370897, -0.02182789979023446, -0.014308811446435206, 0.022252256902072623, -0.03233075367505081, 0.012379309531228677, -0.01753127681512342, 0.024626008047084508, -0.003431329813376141, 0.002335624896015611, -0.0029323779576529035, 0.0010385160095273836, 0.02218595046306367, -0.012730731050273043, 0.010509483969923726, 0.0230877109555342, -0.016616256152438138, -0.008944664675298848, 0.010953733199729082, -0.022689876046770606, -0.013307592226773775, 0.01718648631250896, -0.012120716654267833, -0.003965092177050066, -0.00031702504216693983, -0.016947786484837843, -0.019719372538613326, 0.008082688418762703, 0.011285262600806256, 0.04697109172859559, -0.003434645088760462, -0.031428991319935214, -0.04108312911843017, -0.00767159147713929, 0.0021251038613733725, -0.044928872778628476, 0.0025328850619511976, 0.042913174169090865, -0.02015698982066624, -0.011192433958722733, -0.0013891084186873784, -0.16995526077843054, 0.009627615595420387, 0.020912877264904112, -0.02896241339548487, 0.006882551279058209, 0.011258740397731688, 0.050657702170346486, 0.00037297063441947873, -0.0022195897919031066, 0.0016684219414232037, 0.0033816004497806917, -0.020859832858754975, -0.010582420494040056, 0.016258203616963864, -0.012339526226616824, 0.002622397962989133, -0.027874995618847292, -0.012352787328154109, 0.016404076665196523, 0.005360831262921404, 0.012120716654267833, -0.023061188752459633, 0.010065233808795836, 0.0028047392732799587, 0.007426259701715731, 0.009859686269306663, -0.017584323083917622, 0.005178489952630578, 0.02231856334108158, 0.011444396750576201, 0.004180586241184103, 0.019149140515897434, 0.0074527819047902994, 0.011736142847041522, 0.005708937273750816, -0.008268344771607216, -0.0009713812755412736, 0.004415972423285332, -0.03522169057398438, 0.005367461813690046, -0.0172395307186581, 0.019348057970279234, -0.0054901277014018255, -0.0005677441691938499, -0.009700552119536719, 0.0009357418905368471, 0.018804350013282976, 0.0027235144442875094, 0.01456077330696614, -0.006746624289809145, 0.02477188109531717, -0.027344549694710854, -0.010980255402803651, -0.006169763113308412, 0.0068361374236777135, 0.010204476771921121, -0.017876067317737877, 0.001952708493650827, 0.008991078996340609, -0.0012805325095666218, 0.0023604898106439685, -0.023445763491008475, 0.0021980403854897027, 0.012206914279921448, 0.01525035524351759, -0.016006241756432928, -0.03172073741640053, 0.028378921202554228, -0.014123155093590693, 0.002549461438872803, 0.018194335617277766, -0.010847643456108275, -0.0034180687118388568, -0.007499196225832061, 0.0015772514026931074, 0.014229243905888967, 0.006013944471753421, 0.040207890829034205, -0.011053191926919982, -0.002310760214217886, 0.002307444938833565, 0.006962118353943181, -0.0037495981129160305, 0.0017073767182272678, 0.022703136216985356, 0.012306373007112346, 0.0062426996374247415, -0.0033053486502800404, 0.013121935873929262, -0.0050293018618442304, 0.03103115641117162, -0.0345851539749046, -0.011099606247961743, -0.00876563840756171, 0.029943740497179107, 0.021204623361369433, -0.013334114429848345, -0.0031114039925594075, 0.002781532112759078, -0.006816245771371787, -0.010330457702186588, -0.010350349820153782, -0.032092051984734624, 0.0184197771373792, 0.034903420411799425, -0.0008768954032191981, 0.005125445546481441, 0.02631017818686748, 0.06100142097407036, -0.008294866974681785, -0.0345851539749046, -0.020236558292535012, 0.004813807797710194, 0.020687437607447744, 0.026734535298705644, 0.026827363940789165, -0.01013154024780479, -0.020833310655680407, -0.008633027392188866, 0.016496905307280044, 0.05116162589140835, -0.017942373756746833, -0.02579299057030073, 0.032012483512865855, 0.002072058989562969, -0.023737509587473796, -0.04381493279891633, -0.02698649715923658, 0.029943740497179107, 0.04654673647940249, 0.007180927926292172, 0.02527580481637904, 0.0034081228856858935, 0.030288530999793565, -0.014772952794207756, -0.012485399274849483, -0.009846425167769379, -0.017902589520812445, -0.01081449116792633, 0.0066637421723704845, -0.00599073731123254, 0.011199064975152643, 0.009050754418919655, -0.021151578955220296, -0.013539662900660051, 0.0179688959598214, 0.007127883054481768, -0.004289991027358598, 0.01278377545642218, -0.02832587679640509, -0.01654994971342918, 0.004124226326820011, -0.016815173606819934, 0.029625472197639217, 0.0023323096206312897, -0.001967627232880272, -0.01403032645150717, -0.03172073741640053, -0.009601093392345819, -0.023127495191468585, 0.005254741984961863, -0.0026588662250472983, -0.047819809677562046, -0.005370777321905, 0.036521284112573445, 0.005092292326976964, 0.016218421243674543, 0.018061724601904923, 0.010111648129837598, -0.03325903637059591, -0.0007790941973051432, -0.01198147462246508, -0.004289991027358598, 0.005108868936729203, -0.015714495659967607, -0.03856350678783069, -0.0035108968882611134, 0.013433573157039243, -0.05283253399833151, 0.0024765249147564727, 0.03463819838105374, 0.004422602974053974, 0.02633670038994205, 0.010051972707258551, -0.0172395307186581, 0.007578763300717033, -0.010476330750419248, 0.0001816159846611459, -0.009335869498955067, -0.008148993926449124, -0.004638097038188011, 0.009561309156411433, -0.013990543146895316, -0.006189654765614339, -0.00045958269859996254, -0.014759691692670471, 0.017120181736145074, -0.0010517772274799846, -0.0387226400062781, 0.04405363448923252, -0.04068529420966657, -0.004124226326820011, -0.03660085258444221, -0.026217349544783955, 0.012485399274849483, -0.009998928301109414, -0.010953733199729082, -0.008699332899875288, 0.011510702258262622, -0.012876604098505703, 0.01548905600251124, 0.010363610921691066, -0.005665838460924009, -0.0008155624593633083, 0.014388378055658912, -0.026190827341709386, 0.030845500989649638, 0.0010476330750419248, 0.007273756102714428, -0.027848473415772724, -0.025050365158922675, 0.00905738450402703, 0.013685535948892711, -0.002009068524430235, 0.02917459102008142, 0.022292041138007007, -0.008407586803409967, -0.028299354593330522, -0.07394432685497235, 0.013910975606349078, 0.0023339673747387667, -0.04036702777277175, -0.006103457139960724, 0.025514506506695223, 0.01193506030142332, -0.008513676547030774, 0.0059608995999430175, 0.007373214829905327, -0.022345085544156148, -0.009561309156411433, -0.002450002711681904, -0.011583638782378954, -0.031243335898413233, -0.025262544646164287, 0.027503682913158266, 0.016470383104205476, 0.018260642056286722, 0.022888793501152402, -0.011358199124922587, -0.021244407597303817, 0.025328851085173243, 0.02402925382129405, -0.0298641738879554, 0.016576471916503754, -0.018207597650137585, -0.0044524406853434974, -0.028591100689795843, 0.016483645137065295, 0.00028760179850811533, -0.03951830982380529, 0.0026025063106832067, -0.0025229392357982343, 0.0016675931807847817, -0.0021251038613733725, -0.004621520428435772, 0.00599073731123254, 0.025434939897471517, 0.025633857351853313, -0.0065278147174601545, -0.04606933309877013, 0.013407050953964675, -0.02148310928762, -0.023220321970907044, 0.030633321502408023, -0.016218421243674543, 0.004422602974053974, 0.035964315985362434, 0.0011595242595470027, 0.016987568858127165, 0.014295550344897922, -0.0038855251021650944, -0.008951294760406223, 0.01761084528699219, -0.023379457051999522, 0.02853805442100164, 0.012498660376386769, 0.022663353843696037, -0.0188971786553665, 0.027609773588101606, -0.012339526226616824, 0.011683097509569852, 0.019493931018511892, 0.011504072173155248, 0.01578080209897656, -0.013539662900660051, 0.0029489545674051417, 0.011464288868543393, -0.015303399649666727, -0.037767836970303496, -0.0029356932330372246, 0.006743309247255457, 0.025116671597931628, -0.0009382283470750879, 0.01895022306151564, -0.008805422643496095, 0.0010899031272303102, -0.002277607227544042, 0.015144265499896782, 0.0033351863615695633, 0.025832774806235113, -0.02649583360838946, -0.0035838334123774436, 0.0037263909523951497, 0.012757253253347612, -0.015674713286678285, 0.018181075447063016, 0.013413681970394583, -0.011444396750576201, -0.0391204749150417, 0.01007849491033312, 0.018830872216357545, -0.004180586241184103, 0.009349130600492351, -0.009170104332755214, 0.01721300851558353, -0.009587831359486002, 0.026548878014538597, 0.01101340862230813, 0.013460095360113812, 0.011603530900346146, 0.004246892214531791, -0.012962801724159317, -0.02165550453892723, -0.004160694588878177, -0.004435864075591258, -0.035327779386282655, -0.015091221093747645, 0.012816928675926657, -0.005387353465995973, -0.007704744696643767, -0.023989471448004732, 0.012757253253347612, -0.015847108537985516, -0.020395691510982424, -0.001982546088525033, 0.010728293542272716, -0.02928068169502476, 0.021469847254760185, -0.0035142121636454345, 0.009992297284679506, 0.030553754893184317, -0.009189996450722406, 0.04357623110860015, 0.0034147534364545357, 0.02119136319115468, -0.00869270188344538, 0.013765102558116417, 0.006862659626752282, -0.009110428910176167, 0.029678516603788355, -0.02189420436659835, -0.018008680195755786, -0.00224113919831651, 0.016616256152438138, 0.0005548974479757766, 0.007950076472067327, -0.0035208427144140767, 0.06752592018331556, 0.0108410133710009, -0.017425188002825144, 0.0003259348884180465, 0.0014719907689566718, 0.007698113680213859, 0.005387353465995973, 0.009634245680527764, -0.01967958830267894, -0.001967627232880272, 0.03328555671102541, -0.016165376837525405, -0.010403394226302919, -0.04400059008308338, -0.03535429972671216, 0.02169528691221655, -0.007273756102714428, 0.021880944196383596, -0.007718005798181052, 0.026774317671994965, 0.041427919621044626, -0.0018084931995256438, -0.010244260076532974, 0.010973625317696275, -0.019905027960135307, -0.005082346733654634, 0.036945643087056675, -0.021854421993309028, 0.00874574722091705, -0.011218957093119835, 0.003464482800049985, -0.001649359049755699, -0.03790044612303128, -0.024546441437860802, 0.0018565649254289327, -0.005271318129052835, -0.010754815745347285, -0.0011396324908257596, 0.01078796803352923, -0.0019096096808240198, 0.029837649822235766, 0.03352425840134159, -0.01654994971342918, 0.007956706557174703, -0.004127541835034966, -0.010801229135066514, -0.013645752644280858, 0.010071864825225745, 0.00930271627945059]\n",
            "[[-0.001326117837139328, -0.008679440781908096, -0.0007732924653825813, -0.022106383853839964, -0.01967958830267894, 0.011941691317853227, -0.018379992901444812, -0.004008190989876874, -0.029201115085801053, 0.002272634430882877, -0.0036501393857251317, 0.014043587553044454, -0.015091221093747645, 0.013121935873929262, -0.004850276059768359, 0.007843986728446519, 0.00906401552045694, -0.030235486593644428, -0.010675248204801046, -0.032436842487349085, 0.01799541816289597, -0.02013046761759167, -0.02140354081575123, 0.003013602786645353, 0.0006812930495987466, 0.013354006547815538, 0.010602311680684717, -0.04068529420966657, -0.008367803498798114, 2.0798292972122026e-05, 0.009143582129680645, -0.0035738875862244804, -0.013778363659653702, -0.029386770507323034, 0.005178489952630578, 0.008062796300795509, 0.0054403983378063766, -0.01083438235457099, 0.008089318503870077, -0.00930271627945059, -0.0013642437368896537, 0.0027235144442875094, 0.006507923065154228, -0.005506704311154065, 0.040817907087684485, 0.0032390426769323523, 0.01895022306151564, -0.03050071048703518, -0.011809079371157851, 0.04065877386923707, 0.010105018044730222, 0.009103798825068793, -0.028882846786261164, -0.020647655234158423, 0.015237093210657773, 0.0032821414897591596, -0.002413534449623739, 0.015608406847669332, -0.004044659251935039, -0.019149140515897434, -0.025368633458462565, 0.008268344771607216, -0.02314075536168334, 0.012200284194814072, -0.0054901277014018255, 0.007373214829905327, -0.011053191926919982, 0.01023099897499569, -0.019931550163209875, 0.0017421872261779558, 0.018194335617277766, 0.034505585503035834, -0.00820866934902817, 0.004041344209381351, 0.043045783321818645, -0.0030334944389512793, -0.014388378055658912, -0.016404076665196523, 0.0034810591769715905, -0.01185549276087708, 0.014308811446435206, -0.014308811446435206, -0.008666179680370811, -0.001497684327808135, -0.007439520803253015, 0.020077423211442534, -0.007664960926370648, 0.012750623168240235, -0.021005705906987634, -0.016775391233530616, 0.009130321028143361, 0.022106383853839964, -0.015263616345054874, 0.015966457520498543, -0.0072406033488712175, 0.024122082463377575, 0.019255231190840775, 0.034028182122403466, -0.004541953353550799, -0.0350095092240977, -0.0019278438118531024, 0.00864628849372615, -0.01446794559620515, 0.010144801349342075, -0.05691697562355587, -0.02136375844246191, 0.007724636348949694, -0.019745894741687895, 0.012618011221544859, -0.028431965608703366, -0.009700552119536719, 0.007505826776600703, -0.020210036089460443, -0.05076379098264476, 0.020090685244302353, 0.011199064975152643, -0.005642631300403128, -0.03620301767567862, -0.00518512050339922, -0.004538638310997112, -0.0029688462197110686, 0.0057221983752881005, 0.039757011514121476, -0.014772952794207756, 0.004329774797631717, 0.006179709172292008, -0.012293111905575062, -0.040207890829034205, 0.0007683194940984414, -0.013871192301737225, 0.04177271012365909, 0.03604388073194108, 0.01812803104091388, 0.007731266899718336, -0.023127495191468585, -0.0058945936265953295, -0.02048852015306595, 0.01843303730759395, -0.04217054503242268, -0.018379992901444812, 0.01371205815196728, 0.009501633733832388, -0.02914806881700685, -0.050445520820459805, -0.0007782653784590629, 0.012949540622622033, 0.045565409377708255, -0.0027450638507009128, 0.009223149670226884, -0.00803627409772094, 0.01190853809834875, -0.02326010620684143, 0.016510167340139863, 0.020342647104833286, 0.02520950024001515, 0.011033299808952788, 0.0011056507435134935, -0.011179172857185449, -0.014096631959193591, -0.017159964109434392, -0.0022311931393329135, 0.0179688959598214, 0.022424652153379854, -0.01688148004582889, 8.593865250602223e-05, 0.03068636590855716, -0.009090537723531508, 0.018698261200984702, 0.004982887540802469, -0.008606504257791765, -0.031800305888269306, 0.02413534449623739, -0.012140608772235025, 0.004034713658612709, -0.027264983085487148, 0.015741017863042175, 0.013552924002197335, -0.016059286162582065, -0.016457122933990726, -0.007757789102792905, -0.03559300141702834, 0.0064316714984842096, 0.01478621389574504, 0.02172180911529112, -0.0012341184213554934, 0.007499196225832061, 0.003865633449859168, 0.01190853809834875, -0.004014821540645516, -0.005132076097250083, 0.02949285931962131, 0.02605821446369148, -0.0027036227919815825, -0.012525182579461338, -0.6407801217693887, -0.013042368333383025, -0.008924772557331654, 0.00685602907598364, 0.020024378805293397, 0.007054946530365438, 0.021814637757374643, 0.01639081649498177, -0.007664960926370648, 0.028882846786261164, -0.004817122840263882, -0.011994735724002366, -0.01811476900805406, -0.010489591851956533, -0.014693385253661517, -0.023366195019139703, -0.021297452003452955, -0.014985131350126838, 0.002978792045864032, 0.00224113919831651, -0.0012482083999465162, 0.01314845807700383, -0.018207597650137585, 0.014693385253661517, 0.005168544359308249, 0.01905631373645898, 0.007359953728368043, -0.021933988602532734, 0.004634781529973056, 0.004707718054089386, -0.011789187253190659, 0.01956023745752085, 0.014083370857656307, 0.007041685428828153, 0.016602994119578322, -0.00335507801387549, -0.021615720302992844, -0.01718648631250896, 0.032808153330393046, 0.033471213995192456, -0.010197845755491212, -0.007976598675141895, 0.014892302708043315, -0.00362361694981993, 0.010986886419233559, 0.01295617070772941, 0.01956023745752085, -0.00010867949692460217, 0.029227637288875622, 0.015449272697899388, -0.03535429972671216, -0.007492565675063419, 0.020515042356140517, 0.0019775732918638684, -0.002950612088681986, -0.0004952221418120474, 0.026243871747858524, -0.016695822761661844, -0.005748720578362669, 0.01689474021604364, -0.002580956904269803, 0.020090685244302353, 0.0017886014308044007, -0.006683633824676411, -0.03113724708611496, 0.021244407597303817, -0.017345621393601438, 0.007061577546795346, -0.013513140697585482, -0.022517480795463375, 0.00636868056769021, -0.021350496409602092, -0.00592774638043854, 0.00315947560204738, 0.014759691692670471, 0.01068850930633833, 0.033683391619789005, -0.015475794900973956, -0.014348594751047059, 0.00789040104948828, 0.01502491465473869, 0.004946419278744303, -0.005410560626516853, -0.01093384108176189, -0.016191899040599974, -0.015502317104048525, -0.05073726691692513, -0.03278163298996354, -0.009130321028143361, -0.006988641022679016, 0.029678516603788355, 0.011722881745504237, 0.012379309531228677, -0.0025610650191332436, 0.00550338880293911, 0.01487904160650603, 0.007684852578676574, -0.005387353465995973, 0.015939935317423975, 0.0013484960041911537, -0.0037926969257428378, 0.007340062076062116, 0.019175662718972003, 0.006418410396946925, 0.031243335898413233, 0.0029041980004708575, -0.029996784903328244, -0.01753127681512342, 0.014070109756119022, -0.010138170332912167, 0.005118814530051532, 0.00220964373291951, -0.010323827617079211, 0.000228962530453901, -0.02231856334108158, -0.027954564090716064, 0.003809273302664443, 0.03378948043208728, -0.006948857252405897, 0.00047574475341001526, 0.01936132000313905, -0.012425723852270438, 0.02481166346860649, 0.0047408712735938635, -0.001256496588407319, 0.01030393549911202, 0.005476866599864541, -0.009587831359486002, -0.014945348045514985, -0.006802984204173236, -0.03702520783363531, -0.012087563434763356, 0.030474186421315545, -0.03129638216720743, 0.0067134715359659335, -0.00035079959931960035, 0.015913413114349406, -0.013685535948892711, 0.029201115085801053, -0.015237093210657773, -0.0108410133710009, 0.0007749501030747418, -0.017982157992681217, -0.018578910355826612, -0.0174914944418341, -0.004618205385882084, -0.02434752212083394, -0.004594998225361203, -0.0016891425871981853, 0.0033103216797718384, -0.005821657102478999, 0.0064814008620796585, -0.00844737010802182, -0.015263616345054874, 0.002579299150162326, 0.00015996295406411039, -0.004144117979125938, -0.016656040388372522, -0.018074986634764742, -0.005161913808539606, -0.0017405295884857952, 0.012671055627693998, -0.008772269423991619, 0.005340939610615478, -0.012976062825696601, -0.04320491654026606, -0.0411096531841498, 0.01780976274137399, -0.024188388902386528, -0.04360275517431978, -0.02393642704185559, 0.008613135274221674, -0.009150213146110553, 0.0024516602329587482, 0.011550486494197008, -0.018645216794835565, 0.002516308452198959, -0.0036733463134153792, 0.0045485839043194415, -0.024626008047084508, 0.004359612508921241, 0.010197845755491212, -0.0020803472944390883, 0.007353323177599401, 0.010191215670383837, 0.020501782185925764, -0.005921115829669898, -0.007399737498641162, -0.015382966258890433, -0.004253522765300433, 0.003796012201127159, 0.016934524451978027, 0.003091512107422848, 0.006501292514385586, -0.00952152585179958, 0.015926675147209222, -0.021920726569672918, 0.009322608397417782, 0.010794599049959138, 0.03134942657335657, 0.03328555671102541, 0.02015698982066624, 0.01629798785289825, -0.021761593351225506, 0.010158062450879359, -0.021032228110062202, -0.018353470698370244, -0.004333089840185406, 0.0172925769874523, -0.008394325701872683, 0.010124909231374882, -0.021231145564444002, -0.023127495191468585, 0.0009481742314357094, -0.0070483159795967955, 0.011484180055188054, -0.013002585028771172, -0.008659549595263435, -0.015648191083603716, 0.0003808444716648996, -0.0026008485565757297, 0.00203393320622796, 0.014136416195127977, -0.011510702258262622, -0.009786749745190332, 0.01792911358653208, 0.021032228110062202, 0.016470383104205476, 0.031216813695338665, -0.014189460601277114, -0.03248988689349822, -0.011822340472695135, -0.00039327681256376196, 0.027039541565385718, 0.02530232701945361, 0.009249671873301453, 0.029095024410857713, -0.03235727401548031, 0.019440886612362755, 0.016669300558587275, 0.007651699824833364, 0.01872478340405927, 0.009660767883602333, -0.009143582129680645, 0.028246310187181385, 0.0035573109764722418, 0.022862271298077833, 0.007154405723217603, -0.0056161090973285595, 0.01792911358653208, -0.022981622143235927, -0.004585052166377607, 0.012220175381458732, -0.0037926969257428378, 0.008381064600335398, -0.017650627660281512, 0.002420165000392381, 0.012054411146581411, 0.013698797050429996, 0.022570525201612512, 0.015595145746132048, 0.016656040388372522, 0.003733021735994425, 0.017425188002825144, 0.023498807897157612, 0.011789187253190659, 0.001296280125849805, -0.008467262225989014, -0.009700552119536719, -0.025368633458462565, -0.006962118353943181, -0.005092292326976964, 0.0010832724600463514, -0.015648191083603716, -0.005045878471596469, -0.005261372535730505, 0.037980014594900045, -0.01115928167054079, 0.018645216794835565, -0.00935576161692226, -0.012478768258419575, -0.01200799682553965, -0.010900688793579945, 0.03681303020903876, 0.007359953728368043, -0.015913413114349406, -0.0048635371613056436, 0.007505826776600703, -0.031057678614246187, 0.030845500989649638, 0.0017057190805351073, 0.0036136711236669666, 0.007592024402254318, -0.020979183703913065, -0.022888793501152402, -0.013380528750890106, 0.006408464337963328, -0.0029008827250865364, 0.0207537440464567, 0.0006439959686945012, 0.011318415820310733, -0.01566145125381847, 0.00107415539453181, -0.016987568858127165, 0.02343250145814866, -0.00021362929448992855, -0.005214958214688744, -0.020196774056600628, -0.006322266712309714, -0.0076450692740647214, -0.006176393664077054, -0.005957584091728064, -0.039040910168463054, -0.03299381061456009, -0.004870167712074286, -0.00798985977667918, -0.008095949520299987, -0.004803861738726598, 0.012757253253347612, -0.009501633733832388, -0.009309347295880498, 0.014520990002354288, -0.007379845846335236, 0.002683730906845023, 0.019454148645222574, -0.011444396750576201, 0.012067672248118696, -0.013068891467780125, -0.0006423383310023407, -0.0025378578586123628, -0.0263499605601568, -0.021536153693769138, 0.004770708984883387, -0.01083438235457099, -0.0022875532865276383, -0.013645752644280858, 0.012027888943506843, -0.00952152585179958, 0.010734923627380093, 0.017663889693141328, 0.003693238198551939, -0.007704744696643767, 0.011583638782378954, -0.0013393789386766124, -0.011238848279764495, 0.00035017797063312554, 0.005738774985040339, 0.0003725562249964386, 0.007830725626909235, -0.023352934848924953, 0.0017637366325913594, 0.015276877446592159, 0.012631272323082143, -0.029811127619161198, -0.017571061051057806, 0.003636878051357214, -0.0020505095831495654, 0.005118814530051532, -0.00012059384059657893, 0.09781445118310912, -0.013592707306809188, 0.014109893060730875, -0.013327484344740969, 0.016722344964736412, 0.02509014939485706, -0.006371996075905164, 0.0020919508746995285, 0.0032688803882218753, -0.0032108627197503068, 0.0005043392073265886, 0.004823753391032524, 0.013042368333383025, -0.014070109756119022, -0.012094194451193264, 0.018963485094375454, -0.007996490793109087, -0.033232512304876276, -0.013194872398045593, 0.012923018419547464, 0.006070304386117512, 0.009853055252876754, 0.012717469948735759, -0.0024185072462849042, -0.026031692260616912, -0.00449222398995535, -0.021536153693769138, -8.112111022137285e-05, 0.002957242639450628, -0.016735606997596228, -0.021761593351225506, -0.022172690292848917, -0.03455862990918497, -0.02227877910514719, 0.015820586334910947, -0.0073466926268307585, -0.015064697959350544, -0.03848393831596192, -0.008938033658868938, 0.02914806881700685, -0.00473755576537891, 0.017756718335224853, 0.006236069086656099, -0.02044873591713156, 0.01441490025873348, -0.01779650070851417, -0.006408464337963328, 0.00107415539453181, -0.008301497059789161, 0.00350095106210815, 0.02989069609102997, -0.008467262225989014, -0.000330079011752277, -0.014149677296665261, -0.005977476209695256, 0.009581201274378627, 0.012644533424619428, -0.002879333318673133, -0.03052723269010975, 0.013261177905732014, -0.011457657852113485, 0.00935576161692226, 0.004399395813533094, -0.013433573157039243, -0.014282289243360637, -0.010628833883759285, -0.022716398249845175, 0.006647165562618245, 0.0050293018618442304, 0.007021793776522227, -0.01013154024780479, -0.0022875532865276383, 0.0207537440464567, -0.007333431525293474, 0.010463069648881964, 0.018035202398830354, -0.013672274847355427, 0.015595145746132048, -0.019719372538613326, 0.013048999349812932, 0.022570525201612512, -0.023047926719599814, -0.002100239179575648, 9.137780892523179e-05, -0.021589198099918275, 0.007578763300717033, -0.022782704688854127, 0.01824738188607197, 0.035699090229326616, 0.005301155840342358, 0.010284043381144827, -0.02898893559855944, -0.022384867917445466, -0.0003592950361476668, 0.005941007947637091, -0.007373214829905327, 0.012432354868700346, -0.007718005798181052, 0.0015871972288460708, 0.015767540066116744, -0.015475794900973956, -0.021562675896843707, 0.02015698982066624, -0.0036203016744356087, -0.02914806881700685, -0.0016477014120635386, -0.00844737010802182, 0.0006763200783146066, 0.005214958214688744, -0.008129101808481932, -0.022093121820980145, -0.03951830982380529, 0.015939935317423975, -0.008082688418762703, 0.0026688120512002615, 0.031375946913786076, -0.0001315757485148008, -0.020117207447376922, -0.0027632979817299955, 0.023008144346310495, -0.03763522409228559, -0.018830872216357545, 0.008845205948107948, 0.039624398636103564, 0.018234119853212154, 0.011258740397731688, -0.006935596150868612, -0.013698797050429996, 0.029307203898099328, -0.005277948679821477, 0.010920579980224606, -0.017226270548443348, 0.013088782654424785, -0.018539126119892224, 0.011146020569003504, 0.016112330568731202, 0.0041640100970931305, 0.0415074880929134, -0.0034114381610702146, 0.020660915404373176, 0.048986790338133204, 0.023167277564757907, -0.002037248481612281, 0.002481497944248271, -0.019202186784691638, 0.0023604898106439685, 0.002275949706267198, 0.010821121253033706, -0.0092098885686896, -0.011504072173155248, -0.013274439007269299, 0.007664960926370648, -0.010953733199729082, 0.016642778355512707, 0.022238994869212807, 0.020210036089460443, -0.0405792053973683, 0.0042700993750526715, 0.019586759660595417, 0.003229096850779389, -0.02457296364093537, 0.0056061630383449634, -0.014162938398202546, -0.005088977284423276, 0.019600021693455233, 0.012352787328154109, 0.011769295135223467, -0.016324510055972817, 0.013659013745818143, 0.0008884989252719802, -0.002814685099432922, -0.008294866974681785, -0.008188777231060977, 0.002207986211642666, 0.010410025242732827, -0.03172073741640053, -0.013121935873929262, -0.003229096850779389, 0.011165911755648164, 0.015555361510197662, 0.02294183790730154, -0.01007849491033312, 0.011112867349499027, -0.018883918485151748, -0.0075190878781379875, -0.0004517088904583708, 0.027636295791176175, 0.02384359839977207, 0.00922977975533426, 0.02493101431376458, 0.037343477995820266, 0.014428161360270765, -0.02172180911529112, 0.024506657201926418, -0.008076057402332793, -0.007505826776600703, 0.03471776312763238, 0.037555655620416815, -0.02467905245323365, -0.019003267467664776, -0.002917459102008142, 0.015091221093747645, 0.017266054784377732, -0.017584323083917622, 0.010211106857028496, 0.016801913436605184, 0.005092292326976964, 0.00859324315625448, -0.009349130600492351, -0.04235620231658973, 0.03625606208182776, 0.011961582504497888, 0.009044123402489746, -0.014295550344897922, -0.011291893617236164, -0.005079031225439679, 0.029041980004708576, -0.02608473666676605, 0.023352934848924953, 0.0072406033488712175, -0.030341575405942702, -0.017266054784377732, -0.0030401249897199214, -0.03291424586798145, -0.00685602907598364, -0.006842767974446356, 0.03599083632579194, -0.01147091895365077, -0.012571596900503098, 0.010821121253033706, 0.016576471916503754, 0.002511335655537794, 0.016231681413889292, -0.007877139947950995, 0.033895572969675686, 0.004465701786880782, -0.0092098885686896, 0.004217054503242268, -0.0010782995469698698, 0.013181611296508309, 0.006007313455323513, 0.0021317344121420147, 0.008878359167612426, -0.006325581754863402, -0.0049729419474801384, -0.0007848959874353634, 0.016788651403745365, -0.008049535199258225, -0.012279850804037777, -0.025169716004080765, -0.005009410209538304, -0.023498807897157612, -0.02433426195061919, -0.0023041296634492437, 0.05378733703430611, -0.014905563809580599, -0.0024765249147564727, -0.019639804066744555, 0.028166741715312613, -0.015727757692827422, -0.016311249885758064, 0.0221594282599891, 0.02481166346860649, -0.006889181829826851, 0.02664170665662212, -0.02026308049560958, 0.0024599485378348673, 0.009992297284679506, 0.013937497809423646, 0.00041979916115747636, -0.016483645137065295, 0.03519516650826475, -0.019321535767204665, -0.02739759410085999, -0.04272751688492382, -0.009640876696957672, 0.017769978505439602, -0.006057043284580228, -0.012193653178384164, -0.011033299808952788, -0.0038788945513964523, 0.023299890442775813, 0.015528839307123093, -0.011404613445964348, 0.0014562431526734883, -0.008407586803409967, 0.0068361374236777135, 0.032012483512865855, -0.014348594751047059, -0.04654673647940249, 0.011232218194657119, -0.007751158552024262, 0.004054605310918636, -0.005214958214688744, -0.024785141265531923, 0.000561942437271288, 0.017557799018197987, 0.002680415631460702, -0.02710584800439467, -0.014375116954121627, -0.013990543146895316, -0.004840330000784762, -0.008102579605407362, 4.862863767821075e-06, -0.005214958214688744, -0.003796012201127159, 0.007180927926292172, -0.0033169522305404806, 0.03230422960933117, -0.020687437607447744, -0.0014172883758694242, -0.008109210621837271, -0.02043547574691681, -0.01873804543691909, -0.00937565280356692, -0.0037562286636846727, 0.025289066849238855, 0.016656040388372522, -0.016762129200670797, -0.02601843209040216, -0.007857247829983803, -0.04301926298138914, 0.018578910355826612, 0.013559555018627243, 0.007790942322297382, 0.0023488862303835283, 0.01738540376689076, -0.001053434865172145, 0.03302033468027973, 0.0018714837810736942, 0.028697189502094118, -0.03363034721363987, -0.02160245827013303, 0.013460095360113812, 0.002247769749085152, -0.017332359360741623, 0.014361855852584343, 0.002755009676853876, -0.016841695809894502, 0.008865097134752609, 0.013241286719087354, 0.008904881370686995, 0.03416079500042137, 0.001287163060335264, -0.034744287193352014, 0.005612793589113606, 0.008732486119379766, -0.010436547445807395, -0.007618546605328886, 0.02060787099822404, -0.005937692439422137, 0.0063753115841201176, -0.010589050579147432, -0.005301155840342358, -0.006816245771371787, -0.0048071772469415516, 0.013354006547815538, -0.016735606997596228, -0.0011777583905760852, 0.0023555167811521705, 0.002474867393479629, 0.007054946530365438, -0.007943445455637417, 0.00017933671828251058, -8.749269511838002e-05, 0.0070483159795967955, 0.025925603448318634, -0.0037197604016265076, -0.01763736749006676, -0.017942373756746833, 0.022384867917445466, -0.020037640838153216, 0.006176393664077054, 0.00952815686822949, -0.00010722905666800441, -0.0038788945513964523, 0.00488342881361157, 0.005987421803017586, -0.006982010471910374, 0.007035054878059511, 0.013241286719087354, -0.013725319253504564, -0.034293407878439285, 0.019878505757060738, 0.01812803104091388, -0.028431965608703366, -0.023472285694083043, -0.014892302708043315, -0.005609478546559917, -0.005128760589035129, -0.019546977287306096, -0.0011661548103156449, -0.018857394419432114, 0.0076450692740647214, 0.0452471392155233, -0.010403394226302919, 0.016046025992367312, -0.023923165008995776, -0.0014355225068985067, -0.006428355990269256, 0.017252792751517917, 0.2319114847884755, 0.010635464900189193, -0.005198381604936505, 0.039810055920270614, 0.006590805648254154, 0.03768826849843473, 0.01700083089098698, -0.005957584091728064, -0.007379845846335236, 0.020846572688540222, 0.0021864368052292625, 0.006749939798024099, -0.00568904562144489, 0.0034777439015872694, -0.011848862675769706, -0.024241433308535665, -0.014282289243360637, -0.012624641306652236, 0.004634781529973056, -0.01863195476197575, 0.004313198187879479, 0.0002699892961655076, -0.003868948725243489, -0.0037860663749741956, 0.012611380205114951, -0.01624494344674911, -0.015117743296822214, 0.0001711520812457669, 0.017889329350597696, 0.01658973394936357, -0.011756034033686183, -0.0050193558028606335, 0.012425723852270438, -0.00803627409772094, -0.03336512518289418, -0.008102579605407362, 0.03156160419795312, 0.007651699824833364, 0.024201650935246344, 0.0172395307186581, -0.015290138548129443, -0.011590269798808861, 0.01746497223875953, -0.01686821801296907, -0.018684999168124886, 0.024559701608075555, -0.02821978612146175, -0.0016443861366792175, -0.03039461981209184, 0.01008512592676303, -0.020369169307907855, -0.005032616904397918, 0.02062113116843879, 0.005035932412612873, 0.02186768216352378, -0.008560090868072537, 0.018074986634764742, -0.01324791680419473, 0.01690800224890346, -0.004919897075669735, -0.00323241212616371, 0.005400614567533257, -0.04654673647940249, 0.02864414509594498, -0.0198254613509116, -0.005453659439343661, -0.04026093523518334, 0.01432207254797249, -0.009435328226145966, -0.0011984789199357502, 0.005834918204016284, -0.006100142097407036, 0.012472138173312199, 0.006524499674906466, -0.02544820006768627, -0.023366195019139703, 0.03230422960933117, 0.009693921103106809, 0.020952661500838497, 0.022703136216985356, -0.024427090592702712, 0.010191215670383837, -0.008566720953179912, 0.014905563809580599, -0.03378948043208728, -0.013340745446278253, -0.003461167524665664, -0.023299890442775813, -0.011822340472695135, -0.02483818567168106, -0.017876067317737877, -0.008202038332598261, -0.005642631300403128, -0.026243871747858524, -0.0021267613826502167, 0.010555897359642954, -0.003330213332077765, 0.027981086293790633, -0.0017604213572070383, 0.013367267649352822, -0.026429527169380507, 0.04421276770767993, 0.009866316354414038, 0.028087175106088907, 0.011344938023385303, 0.010111648129837598, -0.024002731618219482, -0.013413681970394583, 0.009800010846727616, -0.019202186784691638, -0.011112867349499027, 0.0018797719695344969, 0.016656040388372522, -0.009687291017999434, 0.008871728151182517, 0.014574034408503425, 0.014096631959193591, -0.019905027960135307, 0.011099606247961743, -0.01778324053829942, -0.007678222027907932, -0.008487154343956206, -0.023246846036626675, 0.008400956718302592, 0.026283654121147845, -0.022358345714370897, -0.02182789979023446, -0.014308811446435206, 0.022252256902072623, -0.03233075367505081, 0.012379309531228677, -0.01753127681512342, 0.024626008047084508, -0.003431329813376141, 0.002335624896015611, -0.0029323779576529035, 0.0010385160095273836, 0.02218595046306367, -0.012730731050273043, 0.010509483969923726, 0.0230877109555342, -0.016616256152438138, -0.008944664675298848, 0.010953733199729082, -0.022689876046770606, -0.013307592226773775, 0.01718648631250896, -0.012120716654267833, -0.003965092177050066, -0.00031702504216693983, -0.016947786484837843, -0.019719372538613326, 0.008082688418762703, 0.011285262600806256, 0.04697109172859559, -0.003434645088760462, -0.031428991319935214, -0.04108312911843017, -0.00767159147713929, 0.0021251038613733725, -0.044928872778628476, 0.0025328850619511976, 0.042913174169090865, -0.02015698982066624, -0.011192433958722733, -0.0013891084186873784, -0.16995526077843054, 0.009627615595420387, 0.020912877264904112, -0.02896241339548487, 0.006882551279058209, 0.011258740397731688, 0.050657702170346486, 0.00037297063441947873, -0.0022195897919031066, 0.0016684219414232037, 0.0033816004497806917, -0.020859832858754975, -0.010582420494040056, 0.016258203616963864, -0.012339526226616824, 0.002622397962989133, -0.027874995618847292, -0.012352787328154109, 0.016404076665196523, 0.005360831262921404, 0.012120716654267833, -0.023061188752459633, 0.010065233808795836, 0.0028047392732799587, 0.007426259701715731, 0.009859686269306663, -0.017584323083917622, 0.005178489952630578, 0.02231856334108158, 0.011444396750576201, 0.004180586241184103, 0.019149140515897434, 0.0074527819047902994, 0.011736142847041522, 0.005708937273750816, -0.008268344771607216, -0.0009713812755412736, 0.004415972423285332, -0.03522169057398438, 0.005367461813690046, -0.0172395307186581, 0.019348057970279234, -0.0054901277014018255, -0.0005677441691938499, -0.009700552119536719, 0.0009357418905368471, 0.018804350013282976, 0.0027235144442875094, 0.01456077330696614, -0.006746624289809145, 0.02477188109531717, -0.027344549694710854, -0.010980255402803651, -0.006169763113308412, 0.0068361374236777135, 0.010204476771921121, -0.017876067317737877, 0.001952708493650827, 0.008991078996340609, -0.0012805325095666218, 0.0023604898106439685, -0.023445763491008475, 0.0021980403854897027, 0.012206914279921448, 0.01525035524351759, -0.016006241756432928, -0.03172073741640053, 0.028378921202554228, -0.014123155093590693, 0.002549461438872803, 0.018194335617277766, -0.010847643456108275, -0.0034180687118388568, -0.007499196225832061, 0.0015772514026931074, 0.014229243905888967, 0.006013944471753421, 0.040207890829034205, -0.011053191926919982, -0.002310760214217886, 0.002307444938833565, 0.006962118353943181, -0.0037495981129160305, 0.0017073767182272678, 0.022703136216985356, 0.012306373007112346, 0.0062426996374247415, -0.0033053486502800404, 0.013121935873929262, -0.0050293018618442304, 0.03103115641117162, -0.0345851539749046, -0.011099606247961743, -0.00876563840756171, 0.029943740497179107, 0.021204623361369433, -0.013334114429848345, -0.0031114039925594075, 0.002781532112759078, -0.006816245771371787, -0.010330457702186588, -0.010350349820153782, -0.032092051984734624, 0.0184197771373792, 0.034903420411799425, -0.0008768954032191981, 0.005125445546481441, 0.02631017818686748, 0.06100142097407036, -0.008294866974681785, -0.0345851539749046, -0.020236558292535012, 0.004813807797710194, 0.020687437607447744, 0.026734535298705644, 0.026827363940789165, -0.01013154024780479, -0.020833310655680407, -0.008633027392188866, 0.016496905307280044, 0.05116162589140835, -0.017942373756746833, -0.02579299057030073, 0.032012483512865855, 0.002072058989562969, -0.023737509587473796, -0.04381493279891633, -0.02698649715923658, 0.029943740497179107, 0.04654673647940249, 0.007180927926292172, 0.02527580481637904, 0.0034081228856858935, 0.030288530999793565, -0.014772952794207756, -0.012485399274849483, -0.009846425167769379, -0.017902589520812445, -0.01081449116792633, 0.0066637421723704845, -0.00599073731123254, 0.011199064975152643, 0.009050754418919655, -0.021151578955220296, -0.013539662900660051, 0.0179688959598214, 0.007127883054481768, -0.004289991027358598, 0.01278377545642218, -0.02832587679640509, -0.01654994971342918, 0.004124226326820011, -0.016815173606819934, 0.029625472197639217, 0.0023323096206312897, -0.001967627232880272, -0.01403032645150717, -0.03172073741640053, -0.009601093392345819, -0.023127495191468585, 0.005254741984961863, -0.0026588662250472983, -0.047819809677562046, -0.005370777321905, 0.036521284112573445, 0.005092292326976964, 0.016218421243674543, 0.018061724601904923, 0.010111648129837598, -0.03325903637059591, -0.0007790941973051432, -0.01198147462246508, -0.004289991027358598, 0.005108868936729203, -0.015714495659967607, -0.03856350678783069, -0.0035108968882611134, 0.013433573157039243, -0.05283253399833151, 0.0024765249147564727, 0.03463819838105374, 0.004422602974053974, 0.02633670038994205, 0.010051972707258551, -0.0172395307186581, 0.007578763300717033, -0.010476330750419248, 0.0001816159846611459, -0.009335869498955067, -0.008148993926449124, -0.004638097038188011, 0.009561309156411433, -0.013990543146895316, -0.006189654765614339, -0.00045958269859996254, -0.014759691692670471, 0.017120181736145074, -0.0010517772274799846, -0.0387226400062781, 0.04405363448923252, -0.04068529420966657, -0.004124226326820011, -0.03660085258444221, -0.026217349544783955, 0.012485399274849483, -0.009998928301109414, -0.010953733199729082, -0.008699332899875288, 0.011510702258262622, -0.012876604098505703, 0.01548905600251124, 0.010363610921691066, -0.005665838460924009, -0.0008155624593633083, 0.014388378055658912, -0.026190827341709386, 0.030845500989649638, 0.0010476330750419248, 0.007273756102714428, -0.027848473415772724, -0.025050365158922675, 0.00905738450402703, 0.013685535948892711, -0.002009068524430235, 0.02917459102008142, 0.022292041138007007, -0.008407586803409967, -0.028299354593330522, -0.07394432685497235, 0.013910975606349078, 0.0023339673747387667, -0.04036702777277175, -0.006103457139960724, 0.025514506506695223, 0.01193506030142332, -0.008513676547030774, 0.0059608995999430175, 0.007373214829905327, -0.022345085544156148, -0.009561309156411433, -0.002450002711681904, -0.011583638782378954, -0.031243335898413233, -0.025262544646164287, 0.027503682913158266, 0.016470383104205476, 0.018260642056286722, 0.022888793501152402, -0.011358199124922587, -0.021244407597303817, 0.025328851085173243, 0.02402925382129405, -0.0298641738879554, 0.016576471916503754, -0.018207597650137585, -0.0044524406853434974, -0.028591100689795843, 0.016483645137065295, 0.00028760179850811533, -0.03951830982380529, 0.0026025063106832067, -0.0025229392357982343, 0.0016675931807847817, -0.0021251038613733725, -0.004621520428435772, 0.00599073731123254, 0.025434939897471517, 0.025633857351853313, -0.0065278147174601545, -0.04606933309877013, 0.013407050953964675, -0.02148310928762, -0.023220321970907044, 0.030633321502408023, -0.016218421243674543, 0.004422602974053974, 0.035964315985362434, 0.0011595242595470027, 0.016987568858127165, 0.014295550344897922, -0.0038855251021650944, -0.008951294760406223, 0.01761084528699219, -0.023379457051999522, 0.02853805442100164, 0.012498660376386769, 0.022663353843696037, -0.0188971786553665, 0.027609773588101606, -0.012339526226616824, 0.011683097509569852, 0.019493931018511892, 0.011504072173155248, 0.01578080209897656, -0.013539662900660051, 0.0029489545674051417, 0.011464288868543393, -0.015303399649666727, -0.037767836970303496, -0.0029356932330372246, 0.006743309247255457, 0.025116671597931628, -0.0009382283470750879, 0.01895022306151564, -0.008805422643496095, 0.0010899031272303102, -0.002277607227544042, 0.015144265499896782, 0.0033351863615695633, 0.025832774806235113, -0.02649583360838946, -0.0035838334123774436, 0.0037263909523951497, 0.012757253253347612, -0.015674713286678285, 0.018181075447063016, 0.013413681970394583, -0.011444396750576201, -0.0391204749150417, 0.01007849491033312, 0.018830872216357545, -0.004180586241184103, 0.009349130600492351, -0.009170104332755214, 0.01721300851558353, -0.009587831359486002, 0.026548878014538597, 0.01101340862230813, 0.013460095360113812, 0.011603530900346146, 0.004246892214531791, -0.012962801724159317, -0.02165550453892723, -0.004160694588878177, -0.004435864075591258, -0.035327779386282655, -0.015091221093747645, 0.012816928675926657, -0.005387353465995973, -0.007704744696643767, -0.023989471448004732, 0.012757253253347612, -0.015847108537985516, -0.020395691510982424, -0.001982546088525033, 0.010728293542272716, -0.02928068169502476, 0.021469847254760185, -0.0035142121636454345, 0.009992297284679506, 0.030553754893184317, -0.009189996450722406, 0.04357623110860015, 0.0034147534364545357, 0.02119136319115468, -0.00869270188344538, 0.013765102558116417, 0.006862659626752282, -0.009110428910176167, 0.029678516603788355, -0.02189420436659835, -0.018008680195755786, -0.00224113919831651, 0.016616256152438138, 0.0005548974479757766, 0.007950076472067327, -0.0035208427144140767, 0.06752592018331556, 0.0108410133710009, -0.017425188002825144, 0.0003259348884180465, 0.0014719907689566718, 0.007698113680213859, 0.005387353465995973, 0.009634245680527764, -0.01967958830267894, -0.001967627232880272, 0.03328555671102541, -0.016165376837525405, -0.010403394226302919, -0.04400059008308338, -0.03535429972671216, 0.02169528691221655, -0.007273756102714428, 0.021880944196383596, -0.007718005798181052, 0.026774317671994965, 0.041427919621044626, -0.0018084931995256438, -0.010244260076532974, 0.010973625317696275, -0.019905027960135307, -0.005082346733654634, 0.036945643087056675, -0.021854421993309028, 0.00874574722091705, -0.011218957093119835, 0.003464482800049985, -0.001649359049755699, -0.03790044612303128, -0.024546441437860802, 0.0018565649254289327, -0.005271318129052835, -0.010754815745347285, -0.0011396324908257596, 0.01078796803352923, -0.0019096096808240198, 0.029837649822235766, 0.03352425840134159, -0.01654994971342918, 0.007956706557174703, -0.004127541835034966, -0.010801229135066514, -0.013645752644280858, 0.010071864825225745, 0.00930271627945059]]\n"
          ]
        }
      ]
    },
    {
      "cell_type": "markdown",
      "source": [
        "# 2. 프롬프트"
      ],
      "metadata": {
        "id": "VrVo6hbWLjwy"
      }
    },
    {
      "cell_type": "markdown",
      "source": [
        "## 2.1. 프롬프트 템플릿"
      ],
      "metadata": {
        "id": "QfLpgoYDh_WT"
      }
    },
    {
      "cell_type": "code",
      "source": [
        "from langchain.prompts import PromptTemplate\n",
        "\n",
        "prompt = PromptTemplate(\n",
        "    input_variables=[\"product\"],\n",
        "    template=\"{product}에 적합한 제품명을 추천해\",\n",
        ")\n",
        "\n",
        "print(prompt.format(product=\"컬러 양말\"))\n",
        "print(prompt.format(product=\"스마트폰\"))"
      ],
      "metadata": {
        "colab": {
          "base_uri": "https://localhost:8080/"
        },
        "id": "EoaWB9_cIReH",
        "outputId": "62aa9bb4-3100-44a2-883f-b5e60a57b205"
      },
      "execution_count": null,
      "outputs": [
        {
          "output_type": "stream",
          "name": "stdout",
          "text": [
            "컬러 양말에 적합한 제품명을 추천해\n",
            "스마트폰에 적합한 제품명을 추천해\n"
          ]
        }
      ]
    },
    {
      "cell_type": "code",
      "source": [
        "from langchain import PromptTemplate, FewShotPromptTemplate\n",
        "\n",
        "\n",
        "# First, create the list of few shot examples.\n",
        "examples = [\n",
        "    {\"word\": \"행복\", \"antonym\": \"슬픔\"},\n",
        "    {\"word\": \"길다\", \"antonym\": \"짧다\"},\n",
        "]\n",
        "\n",
        "# Next, we specify the template to format the examples we have provided.\n",
        "# We use the `PromptTemplate` class for this.\n",
        "example_formatter_template = \"\"\"\n",
        "word: {word}\n",
        "antonym: {antonym}\\n\n",
        "\"\"\"\n",
        "example_prompt = PromptTemplate(\n",
        "    input_variables=[\"word\", \"antonym\"],\n",
        "    template=example_formatter_template,\n",
        ")\n",
        "\n",
        "# Finally, we create the `FewShotPromptTemplate` object.\n",
        "few_shot_prompt = FewShotPromptTemplate(\n",
        "    # These are the examples we want to insert into the prompt.\n",
        "    examples=examples,\n",
        "    # This is how we want to format the examples when we insert them into the prompt.\n",
        "    example_prompt=example_prompt,\n",
        "    # The prefix is some text that goes before the examples in the prompt.\n",
        "    # Usually, this consists of intructions.\n",
        "    prefix=\"Give the antonym of every input\",\n",
        "    # The suffix is some text that goes after the examples in the prompt.\n",
        "    # Usually, this is where the user input will go\n",
        "    suffix=\"Word: {input}\\nAntonym:\",\n",
        "    # The input variables are the variables that the overall prompt expects.\n",
        "    input_variables=[\"input\"],\n",
        "    # The example_separator is the string we will use to join the prefix, examples, and suffix together with.\n",
        "    example_separator=\"\\n\\n\",\n",
        ")\n",
        "\n",
        "# We can now generate a prompt using the `format` method.\n",
        "print(few_shot_prompt.format(input=\"크다\"))"
      ],
      "metadata": {
        "colab": {
          "base_uri": "https://localhost:8080/"
        },
        "id": "qvqvRVQGOr6H",
        "outputId": "9a4b38ff-5c61-4782-c0a1-dbca1c51cd87"
      },
      "execution_count": null,
      "outputs": [
        {
          "output_type": "stream",
          "name": "stdout",
          "text": [
            "Give the antonym of every input\n",
            "\n",
            "\n",
            "word: 행복\n",
            "antonym: 슬픔\n",
            "\n",
            "\n",
            "\n",
            "\n",
            "word: 길다\n",
            "antonym: 짧다\n",
            "\n",
            "\n",
            "\n",
            "Word: 크다\n",
            "Antonym:\n"
          ]
        }
      ]
    },
    {
      "cell_type": "markdown",
      "source": [
        "## 2.2. 채팅 프롬프트 템플릿"
      ],
      "metadata": {
        "id": "we3WShqomT0n"
      }
    },
    {
      "cell_type": "code",
      "source": [
        "from langchain.chat_models import ChatOpenAI\n",
        "from langchain.prompts.chat import (\n",
        "    ChatPromptTemplate,\n",
        "    SystemMessagePromptTemplate,\n",
        "    HumanMessagePromptTemplate,\n",
        ")\n",
        "\n",
        "chat = ChatOpenAI(temperature=0)\n",
        "\n",
        "template=\"You are a helpful assistant that translates {input_language} to {output_language}.\"\n",
        "system_message_prompt = SystemMessagePromptTemplate.from_template(template)\n",
        "human_template=\"{text}\"\n",
        "human_message_prompt = HumanMessagePromptTemplate.from_template(human_template)\n",
        "\n",
        "chat_prompt = ChatPromptTemplate.from_messages([system_message_prompt, human_message_prompt])\n",
        "\n",
        "# get a chat completion from the formatted messages\n",
        "chat(chat_prompt.format_prompt(input_language=\"English\", output_language=\"Korean\", text=\"I love programming.\").to_messages())"
      ],
      "metadata": {
        "colab": {
          "base_uri": "https://localhost:8080/"
        },
        "id": "BS3BLZbmmXLH",
        "outputId": "24caeed3-9ee8-496e-9461-7172f3b2c82d"
      },
      "execution_count": null,
      "outputs": [
        {
          "output_type": "execute_result",
          "data": {
            "text/plain": [
              "AIMessage(content='저는 프로그래밍을 좋아합니다.', additional_kwargs={})"
            ]
          },
          "metadata": {},
          "execution_count": 18
        }
      ]
    },
    {
      "cell_type": "markdown",
      "source": [
        "# 3. 체인"
      ],
      "metadata": {
        "id": "laNsJfSWfzr-"
      }
    },
    {
      "cell_type": "markdown",
      "source": [
        "## 3.1. LLM과 프롬프트 템플릿을 이용한 체인"
      ],
      "metadata": {
        "id": "QYwDSlwVNQwB"
      }
    },
    {
      "cell_type": "code",
      "source": [
        "from langchain.prompts import PromptTemplate\n",
        "from langchain.llms import OpenAI\n",
        "\n",
        "llm = OpenAI(temperature=0.9)\n",
        "prompt = PromptTemplate(\n",
        "    input_variables=[\"service\"],\n",
        "    template=\"{service}에 AI을 활용할 수 있는 방안을 작성해\",\n",
        ")\n",
        "\n",
        "from langchain.chains import LLMChain\n",
        "chain = LLMChain(llm=llm, prompt=prompt)\n",
        "\n",
        "chain.run(\"고객응답챗봇\")"
      ],
      "metadata": {
        "colab": {
          "base_uri": "https://localhost:8080/",
          "height": 54
        },
        "id": "Xa-qMnqSIohJ",
        "outputId": "b720cd33-2b20-4eee-b889-febcbff9906a"
      },
      "execution_count": null,
      "outputs": [
        {
          "output_type": "execute_result",
          "data": {
            "text/plain": [
              "' 보세요.\\n\\nAI를 활용한 솔루션은 다양합니다. 가장 기본적인 방법은 고객이 챗봇에 입력한 내용을 분석하고 이해하는 방법입니다. 이를 위해서는 자연어 처리 기술인 NLP(Natural Language Processing)과 머신 러닝 기술인 ML(Machine Learning)을 결합하여 사용하는 것이 가'"
            ],
            "application/vnd.google.colaboratory.intrinsic+json": {
              "type": "string"
            }
          },
          "metadata": {},
          "execution_count": 19
        }
      ]
    },
    {
      "cell_type": "markdown",
      "source": [
        "## 3.2. 채팅 모델과 프롬프트 템플릿을 이용한 체인\n"
      ],
      "metadata": {
        "id": "QnJUnOKMB9_S"
      }
    },
    {
      "cell_type": "code",
      "source": [
        "chat = ChatOpenAI(temperature=0)\n",
        "\n",
        "template=\"You are a helpful assistant that translates {input_language} to {output_language}.\"\n",
        "system_message_prompt = SystemMessagePromptTemplate.from_template(template)\n",
        "human_template=\"{text}\"\n",
        "human_message_prompt = HumanMessagePromptTemplate.from_template(human_template)\n",
        "\n",
        "chat_prompt = ChatPromptTemplate.from_messages([system_message_prompt, human_message_prompt])\n",
        "\n",
        "chain = LLMChain(llm=chat, prompt=chat_prompt)\n",
        "\n",
        "chain.run(input_language=\"English\", output_language=\"Korean\", text=\"I love programming.\")"
      ],
      "metadata": {
        "colab": {
          "base_uri": "https://localhost:8080/",
          "height": 35
        },
        "id": "GolOhCQ2NSvq",
        "outputId": "8774536f-2636-4102-c304-4cbb5e753747"
      },
      "execution_count": null,
      "outputs": [
        {
          "output_type": "execute_result",
          "data": {
            "text/plain": [
              "'저는 프로그래밍을 좋아합니다.'"
            ],
            "application/vnd.google.colaboratory.intrinsic+json": {
              "type": "string"
            }
          },
          "metadata": {},
          "execution_count": 20
        }
      ]
    },
    {
      "cell_type": "markdown",
      "source": [
        "## 3.3 수학계산용 체인 - LLMMathChain"
      ],
      "metadata": {
        "id": "0iK96vudlsLD"
      }
    },
    {
      "cell_type": "code",
      "source": [
        "from langchain import OpenAI, LLMMathChain\n",
        "\n",
        "llm = OpenAI(temperature=0)\n",
        "llm_math = LLMMathChain(llm=llm, verbose=True)\n",
        "\n",
        "llm_math.run(\"What is 13 raised to the .3432 power?\")"
      ],
      "metadata": {
        "colab": {
          "base_uri": "https://localhost:8080/",
          "height": 235
        },
        "id": "v5jncigjluil",
        "outputId": "cdd21667-6aa2-4a2e-dbdf-587f80c2007a"
      },
      "execution_count": null,
      "outputs": [
        {
          "output_type": "stream",
          "name": "stdout",
          "text": [
            "\n",
            "\n",
            "\u001b[1m> Entering new LLMMathChain chain...\u001b[0m\n",
            "What is 13 raised to the .3432 power?\u001b[32;1m\u001b[1;3m\n",
            "```text\n",
            "13 ** .3432\n",
            "```\n",
            "...numexpr.evaluate(\"13 ** .3432\")...\n",
            "\u001b[0m\n",
            "Answer: \u001b[33;1m\u001b[1;3m2.4116004626599237\u001b[0m\n",
            "\u001b[1m> Finished chain.\u001b[0m\n"
          ]
        },
        {
          "output_type": "execute_result",
          "data": {
            "text/plain": [
              "'Answer: 2.4116004626599237'"
            ],
            "application/vnd.google.colaboratory.intrinsic+json": {
              "type": "string"
            }
          },
          "metadata": {},
          "execution_count": 21
        }
      ]
    },
    {
      "cell_type": "markdown",
      "source": [
        "## 3.4 프롬프트 템플릿을 이용한 수학계산용 체인 - LLMMathChain"
      ],
      "metadata": {
        "id": "oWIzV1F3I-7j"
      }
    },
    {
      "cell_type": "code",
      "source": [
        "from langchain.prompts.prompt import PromptTemplate\n",
        "\n",
        "_PROMPT_TEMPLATE = \"\"\"You are GPT-3, and you can't do math.\n",
        "\n",
        "You can do basic math, and your memorization abilities are impressive, but you can't do any complex calculations that a human could not do in their head. You also have an annoying tendency to just make up highly specific, but wrong, answers.\n",
        "\n",
        "So we hooked you up to a Python 3 kernel, and now you can execute code. If you execute code, you must print out the final answer using the print function. You MUST use the python package numpy to answer your question. You must import numpy as np.\n",
        "\n",
        "\n",
        "Question: ${{Question with hard calculation.}}\n",
        "```python\n",
        "${{Code that prints what you need to know}}\n",
        "print(${{code}})\n",
        "```\n",
        "```output\n",
        "${{Output of your code}}\n",
        "```\n",
        "Answer: ${{Answer}}\n",
        "\n",
        "Begin.\n",
        "\n",
        "Question: What is 37593 * 67?\n",
        "\n",
        "```python\n",
        "import numpy as np\n",
        "print(np.multiply(37593, 67))\n",
        "```\n",
        "```output\n",
        "2518731\n",
        "```\n",
        "Answer: 2518731\n",
        "\n",
        "Question: {question}\"\"\"\n",
        "\n",
        "PROMPT = PromptTemplate(input_variables=[\"question\"], template=_PROMPT_TEMPLATE)\n",
        "\n",
        "llm_math = LLMMathChain(llm=llm, prompt=PROMPT, verbose=True)\n",
        "\n",
        "llm_math.run(\"What is 13 raised to the .3432 power?\")"
      ],
      "metadata": {
        "colab": {
          "base_uri": "https://localhost:8080/",
          "height": 577
        },
        "id": "MnJKENfEl0Hq",
        "outputId": "2f36b391-2966-4536-b222-702a702428bb"
      },
      "execution_count": null,
      "outputs": [
        {
          "output_type": "stream",
          "name": "stdout",
          "text": [
            "\n",
            "\n",
            "\u001b[1m> Entering new LLMMathChain chain...\u001b[0m\n",
            "What is 13 raised to the .3432 power?\u001b[32;1m\u001b[1;3m\n",
            "\n",
            "```python\n",
            "import numpy as np\n",
            "print(np.power(13, .3432))\n",
            "```\n",
            "\u001b[0m"
          ]
        },
        {
          "output_type": "error",
          "ename": "ValueError",
          "evalue": "ignored",
          "traceback": [
            "\u001b[0;31m---------------------------------------------------------------------------\u001b[0m",
            "\u001b[0;31mValueError\u001b[0m                                Traceback (most recent call last)",
            "\u001b[0;32m<ipython-input-24-afa40630a6b0>\u001b[0m in \u001b[0;36m<cell line: 39>\u001b[0;34m()\u001b[0m\n\u001b[1;32m     37\u001b[0m \u001b[0mllm_math\u001b[0m \u001b[0;34m=\u001b[0m \u001b[0mLLMMathChain\u001b[0m\u001b[0;34m(\u001b[0m\u001b[0mllm\u001b[0m\u001b[0;34m=\u001b[0m\u001b[0mllm\u001b[0m\u001b[0;34m,\u001b[0m \u001b[0mprompt\u001b[0m\u001b[0;34m=\u001b[0m\u001b[0mPROMPT\u001b[0m\u001b[0;34m,\u001b[0m \u001b[0mverbose\u001b[0m\u001b[0;34m=\u001b[0m\u001b[0;32mTrue\u001b[0m\u001b[0;34m)\u001b[0m\u001b[0;34m\u001b[0m\u001b[0;34m\u001b[0m\u001b[0m\n\u001b[1;32m     38\u001b[0m \u001b[0;34m\u001b[0m\u001b[0m\n\u001b[0;32m---> 39\u001b[0;31m \u001b[0mllm_math\u001b[0m\u001b[0;34m.\u001b[0m\u001b[0mrun\u001b[0m\u001b[0;34m(\u001b[0m\u001b[0;34m\"What is 13 raised to the .3432 power?\"\u001b[0m\u001b[0;34m)\u001b[0m\u001b[0;34m\u001b[0m\u001b[0;34m\u001b[0m\u001b[0m\n\u001b[0m",
            "\u001b[0;32m/usr/local/lib/python3.9/dist-packages/langchain/chains/base.py\u001b[0m in \u001b[0;36mrun\u001b[0;34m(self, *args, **kwargs)\u001b[0m\n\u001b[1;32m    211\u001b[0m             \u001b[0;32mif\u001b[0m \u001b[0mlen\u001b[0m\u001b[0;34m(\u001b[0m\u001b[0margs\u001b[0m\u001b[0;34m)\u001b[0m \u001b[0;34m!=\u001b[0m \u001b[0;36m1\u001b[0m\u001b[0;34m:\u001b[0m\u001b[0;34m\u001b[0m\u001b[0;34m\u001b[0m\u001b[0m\n\u001b[1;32m    212\u001b[0m                 \u001b[0;32mraise\u001b[0m \u001b[0mValueError\u001b[0m\u001b[0;34m(\u001b[0m\u001b[0;34m\"`run` supports only one positional argument.\"\u001b[0m\u001b[0;34m)\u001b[0m\u001b[0;34m\u001b[0m\u001b[0;34m\u001b[0m\u001b[0m\n\u001b[0;32m--> 213\u001b[0;31m             \u001b[0;32mreturn\u001b[0m \u001b[0mself\u001b[0m\u001b[0;34m(\u001b[0m\u001b[0margs\u001b[0m\u001b[0;34m[\u001b[0m\u001b[0;36m0\u001b[0m\u001b[0;34m]\u001b[0m\u001b[0;34m)\u001b[0m\u001b[0;34m[\u001b[0m\u001b[0mself\u001b[0m\u001b[0;34m.\u001b[0m\u001b[0moutput_keys\u001b[0m\u001b[0;34m[\u001b[0m\u001b[0;36m0\u001b[0m\u001b[0;34m]\u001b[0m\u001b[0;34m]\u001b[0m\u001b[0;34m\u001b[0m\u001b[0;34m\u001b[0m\u001b[0m\n\u001b[0m\u001b[1;32m    214\u001b[0m \u001b[0;34m\u001b[0m\u001b[0m\n\u001b[1;32m    215\u001b[0m         \u001b[0;32mif\u001b[0m \u001b[0mkwargs\u001b[0m \u001b[0;32mand\u001b[0m \u001b[0;32mnot\u001b[0m \u001b[0margs\u001b[0m\u001b[0;34m:\u001b[0m\u001b[0;34m\u001b[0m\u001b[0;34m\u001b[0m\u001b[0m\n",
            "\u001b[0;32m/usr/local/lib/python3.9/dist-packages/langchain/chains/base.py\u001b[0m in \u001b[0;36m__call__\u001b[0;34m(self, inputs, return_only_outputs)\u001b[0m\n\u001b[1;32m    114\u001b[0m         \u001b[0;32mexcept\u001b[0m \u001b[0;34m(\u001b[0m\u001b[0mKeyboardInterrupt\u001b[0m\u001b[0;34m,\u001b[0m \u001b[0mException\u001b[0m\u001b[0;34m)\u001b[0m \u001b[0;32mas\u001b[0m \u001b[0me\u001b[0m\u001b[0;34m:\u001b[0m\u001b[0;34m\u001b[0m\u001b[0;34m\u001b[0m\u001b[0m\n\u001b[1;32m    115\u001b[0m             \u001b[0mself\u001b[0m\u001b[0;34m.\u001b[0m\u001b[0mcallback_manager\u001b[0m\u001b[0;34m.\u001b[0m\u001b[0mon_chain_error\u001b[0m\u001b[0;34m(\u001b[0m\u001b[0me\u001b[0m\u001b[0;34m,\u001b[0m \u001b[0mverbose\u001b[0m\u001b[0;34m=\u001b[0m\u001b[0mself\u001b[0m\u001b[0;34m.\u001b[0m\u001b[0mverbose\u001b[0m\u001b[0;34m)\u001b[0m\u001b[0;34m\u001b[0m\u001b[0;34m\u001b[0m\u001b[0m\n\u001b[0;32m--> 116\u001b[0;31m             \u001b[0;32mraise\u001b[0m \u001b[0me\u001b[0m\u001b[0;34m\u001b[0m\u001b[0;34m\u001b[0m\u001b[0m\n\u001b[0m\u001b[1;32m    117\u001b[0m         \u001b[0mself\u001b[0m\u001b[0;34m.\u001b[0m\u001b[0mcallback_manager\u001b[0m\u001b[0;34m.\u001b[0m\u001b[0mon_chain_end\u001b[0m\u001b[0;34m(\u001b[0m\u001b[0moutputs\u001b[0m\u001b[0;34m,\u001b[0m \u001b[0mverbose\u001b[0m\u001b[0;34m=\u001b[0m\u001b[0mself\u001b[0m\u001b[0;34m.\u001b[0m\u001b[0mverbose\u001b[0m\u001b[0;34m)\u001b[0m\u001b[0;34m\u001b[0m\u001b[0;34m\u001b[0m\u001b[0m\n\u001b[1;32m    118\u001b[0m         \u001b[0;32mreturn\u001b[0m \u001b[0mself\u001b[0m\u001b[0;34m.\u001b[0m\u001b[0mprep_outputs\u001b[0m\u001b[0;34m(\u001b[0m\u001b[0minputs\u001b[0m\u001b[0;34m,\u001b[0m \u001b[0moutputs\u001b[0m\u001b[0;34m,\u001b[0m \u001b[0mreturn_only_outputs\u001b[0m\u001b[0;34m)\u001b[0m\u001b[0;34m\u001b[0m\u001b[0;34m\u001b[0m\u001b[0m\n",
            "\u001b[0;32m/usr/local/lib/python3.9/dist-packages/langchain/chains/base.py\u001b[0m in \u001b[0;36m__call__\u001b[0;34m(self, inputs, return_only_outputs)\u001b[0m\n\u001b[1;32m    111\u001b[0m         )\n\u001b[1;32m    112\u001b[0m         \u001b[0;32mtry\u001b[0m\u001b[0;34m:\u001b[0m\u001b[0;34m\u001b[0m\u001b[0;34m\u001b[0m\u001b[0m\n\u001b[0;32m--> 113\u001b[0;31m             \u001b[0moutputs\u001b[0m \u001b[0;34m=\u001b[0m \u001b[0mself\u001b[0m\u001b[0;34m.\u001b[0m\u001b[0m_call\u001b[0m\u001b[0;34m(\u001b[0m\u001b[0minputs\u001b[0m\u001b[0;34m)\u001b[0m\u001b[0;34m\u001b[0m\u001b[0;34m\u001b[0m\u001b[0m\n\u001b[0m\u001b[1;32m    114\u001b[0m         \u001b[0;32mexcept\u001b[0m \u001b[0;34m(\u001b[0m\u001b[0mKeyboardInterrupt\u001b[0m\u001b[0;34m,\u001b[0m \u001b[0mException\u001b[0m\u001b[0;34m)\u001b[0m \u001b[0;32mas\u001b[0m \u001b[0me\u001b[0m\u001b[0;34m:\u001b[0m\u001b[0;34m\u001b[0m\u001b[0;34m\u001b[0m\u001b[0m\n\u001b[1;32m    115\u001b[0m             \u001b[0mself\u001b[0m\u001b[0;34m.\u001b[0m\u001b[0mcallback_manager\u001b[0m\u001b[0;34m.\u001b[0m\u001b[0mon_chain_error\u001b[0m\u001b[0;34m(\u001b[0m\u001b[0me\u001b[0m\u001b[0;34m,\u001b[0m \u001b[0mverbose\u001b[0m\u001b[0;34m=\u001b[0m\u001b[0mself\u001b[0m\u001b[0;34m.\u001b[0m\u001b[0mverbose\u001b[0m\u001b[0;34m)\u001b[0m\u001b[0;34m\u001b[0m\u001b[0;34m\u001b[0m\u001b[0m\n",
            "\u001b[0;32m/usr/local/lib/python3.9/dist-packages/langchain/chains/llm_math/base.py\u001b[0m in \u001b[0;36m_call\u001b[0;34m(self, inputs)\u001b[0m\n\u001b[1;32m    128\u001b[0m             \u001b[0mquestion\u001b[0m\u001b[0;34m=\u001b[0m\u001b[0minputs\u001b[0m\u001b[0;34m[\u001b[0m\u001b[0mself\u001b[0m\u001b[0;34m.\u001b[0m\u001b[0minput_key\u001b[0m\u001b[0;34m]\u001b[0m\u001b[0;34m,\u001b[0m \u001b[0mstop\u001b[0m\u001b[0;34m=\u001b[0m\u001b[0;34m[\u001b[0m\u001b[0;34m\"```output\"\u001b[0m\u001b[0;34m]\u001b[0m\u001b[0;34m\u001b[0m\u001b[0;34m\u001b[0m\u001b[0m\n\u001b[1;32m    129\u001b[0m         )\n\u001b[0;32m--> 130\u001b[0;31m         \u001b[0;32mreturn\u001b[0m \u001b[0mself\u001b[0m\u001b[0;34m.\u001b[0m\u001b[0m_process_llm_result\u001b[0m\u001b[0;34m(\u001b[0m\u001b[0mllm_output\u001b[0m\u001b[0;34m)\u001b[0m\u001b[0;34m\u001b[0m\u001b[0;34m\u001b[0m\u001b[0m\n\u001b[0m\u001b[1;32m    131\u001b[0m \u001b[0;34m\u001b[0m\u001b[0m\n\u001b[1;32m    132\u001b[0m     \u001b[0;32masync\u001b[0m \u001b[0;32mdef\u001b[0m \u001b[0m_acall\u001b[0m\u001b[0;34m(\u001b[0m\u001b[0mself\u001b[0m\u001b[0;34m,\u001b[0m \u001b[0minputs\u001b[0m\u001b[0;34m:\u001b[0m \u001b[0mDict\u001b[0m\u001b[0;34m[\u001b[0m\u001b[0mstr\u001b[0m\u001b[0;34m,\u001b[0m \u001b[0mstr\u001b[0m\u001b[0;34m]\u001b[0m\u001b[0;34m)\u001b[0m \u001b[0;34m->\u001b[0m \u001b[0mDict\u001b[0m\u001b[0;34m[\u001b[0m\u001b[0mstr\u001b[0m\u001b[0;34m,\u001b[0m \u001b[0mstr\u001b[0m\u001b[0;34m]\u001b[0m\u001b[0;34m:\u001b[0m\u001b[0;34m\u001b[0m\u001b[0;34m\u001b[0m\u001b[0m\n",
            "\u001b[0;32m/usr/local/lib/python3.9/dist-packages/langchain/chains/llm_math/base.py\u001b[0m in \u001b[0;36m_process_llm_result\u001b[0;34m(self, llm_output)\u001b[0m\n\u001b[1;32m     84\u001b[0m             \u001b[0manswer\u001b[0m \u001b[0;34m=\u001b[0m \u001b[0;34m\"Answer: \"\u001b[0m \u001b[0;34m+\u001b[0m \u001b[0mllm_output\u001b[0m\u001b[0;34m.\u001b[0m\u001b[0msplit\u001b[0m\u001b[0;34m(\u001b[0m\u001b[0;34m\"Answer:\"\u001b[0m\u001b[0;34m)\u001b[0m\u001b[0;34m[\u001b[0m\u001b[0;34m-\u001b[0m\u001b[0;36m1\u001b[0m\u001b[0;34m]\u001b[0m\u001b[0;34m\u001b[0m\u001b[0;34m\u001b[0m\u001b[0m\n\u001b[1;32m     85\u001b[0m         \u001b[0;32melse\u001b[0m\u001b[0;34m:\u001b[0m\u001b[0;34m\u001b[0m\u001b[0;34m\u001b[0m\u001b[0m\n\u001b[0;32m---> 86\u001b[0;31m             \u001b[0;32mraise\u001b[0m \u001b[0mValueError\u001b[0m\u001b[0;34m(\u001b[0m\u001b[0;34mf\"unknown format from LLM: {llm_output}\"\u001b[0m\u001b[0;34m)\u001b[0m\u001b[0;34m\u001b[0m\u001b[0;34m\u001b[0m\u001b[0m\n\u001b[0m\u001b[1;32m     87\u001b[0m         \u001b[0;32mreturn\u001b[0m \u001b[0;34m{\u001b[0m\u001b[0mself\u001b[0m\u001b[0;34m.\u001b[0m\u001b[0moutput_key\u001b[0m\u001b[0;34m:\u001b[0m \u001b[0manswer\u001b[0m\u001b[0;34m}\u001b[0m\u001b[0;34m\u001b[0m\u001b[0;34m\u001b[0m\u001b[0m\n\u001b[1;32m     88\u001b[0m \u001b[0;34m\u001b[0m\u001b[0m\n",
            "\u001b[0;31mValueError\u001b[0m: unknown format from LLM: ```python\nimport numpy as np\nprint(np.power(13, .3432))\n```"
          ]
        }
      ]
    },
    {
      "cell_type": "markdown",
      "source": [
        "## 3.5. LLM기반 대화용 체인 - ConversationChain"
      ],
      "metadata": {
        "id": "ZlfZI5DDoNKH"
      }
    },
    {
      "cell_type": "code",
      "source": [
        "from langchain import OpenAI, ConversationChain\n",
        "\n",
        "llm = OpenAI(temperature=0)\n",
        "conversation = ConversationChain(llm=llm, verbose=True)\n",
        "\n",
        "conversation.predict(input=\"Hi there!\")"
      ],
      "metadata": {
        "colab": {
          "base_uri": "https://localhost:8080/",
          "height": 273
        },
        "id": "Eeg76PpnoP9y",
        "outputId": "d4388acf-a18c-48a9-8ae0-c8eadcf1070a"
      },
      "execution_count": null,
      "outputs": [
        {
          "output_type": "stream",
          "name": "stdout",
          "text": [
            "\n",
            "\n",
            "\u001b[1m> Entering new ConversationChain chain...\u001b[0m\n",
            "Prompt after formatting:\n",
            "\u001b[32;1m\u001b[1;3mThe following is a friendly conversation between a human and an AI. The AI is talkative and provides lots of specific details from its context. If the AI does not know the answer to a question, it truthfully says it does not know.\n",
            "\n",
            "Current conversation:\n",
            "\n",
            "Human: Hi there!\n",
            "AI:\u001b[0m\n",
            "\n",
            "\u001b[1m> Finished chain.\u001b[0m\n"
          ]
        },
        {
          "output_type": "execute_result",
          "data": {
            "text/plain": [
              "\" Hi there! It's nice to meet you. How can I help you today?\""
            ],
            "application/vnd.google.colaboratory.intrinsic+json": {
              "type": "string"
            }
          },
          "metadata": {},
          "execution_count": 25
        }
      ]
    },
    {
      "cell_type": "code",
      "source": [
        "conversation.predict(input=\"I'm doing well! Just having a conversation with an AI.\")"
      ],
      "metadata": {
        "colab": {
          "base_uri": "https://localhost:8080/",
          "height": 291
        },
        "id": "9E-aERDvoVPz",
        "outputId": "4379a7f8-9565-462d-99d0-981bde9141ff"
      },
      "execution_count": null,
      "outputs": [
        {
          "output_type": "stream",
          "name": "stdout",
          "text": [
            "\n",
            "\n",
            "\u001b[1m> Entering new ConversationChain chain...\u001b[0m\n",
            "Prompt after formatting:\n",
            "\u001b[32;1m\u001b[1;3mThe following is a friendly conversation between a human and an AI. The AI is talkative and provides lots of specific details from its context. If the AI does not know the answer to a question, it truthfully says it does not know.\n",
            "\n",
            "Current conversation:\n",
            "Human: Hi there!\n",
            "AI:  Hi there! It's nice to meet you. How can I help you today?\n",
            "Human: I'm doing well! Just having a conversation with an AI.\n",
            "AI:\u001b[0m\n",
            "\n",
            "\u001b[1m> Finished chain.\u001b[0m\n"
          ]
        },
        {
          "output_type": "execute_result",
          "data": {
            "text/plain": [
              "\" That's great! It's always nice to have a conversation with someone new. What would you like to talk about?\""
            ],
            "application/vnd.google.colaboratory.intrinsic+json": {
              "type": "string"
            }
          },
          "metadata": {},
          "execution_count": 26
        }
      ]
    },
    {
      "cell_type": "markdown",
      "source": [
        "## 3.6. 채팅 모델 기반 대화용 체인"
      ],
      "metadata": {
        "id": "xCzSM70som6A"
      }
    },
    {
      "cell_type": "code",
      "source": [
        "from langchain.chat_models import ChatOpenAI\n",
        "from langchain import LLMChain\n",
        "from langchain.prompts.chat import (\n",
        "    ChatPromptTemplate,\n",
        "    SystemMessagePromptTemplate,\n",
        "    HumanMessagePromptTemplate,\n",
        ")\n",
        "\n",
        "chat = ChatOpenAI(temperature=0)\n",
        "\n",
        "template=\"You are a helpful assistant that translates {input_language} to {output_language}.\"\n",
        "system_message_prompt = SystemMessagePromptTemplate.from_template(template)\n",
        "human_template=\"{text}\"\n",
        "human_message_prompt = HumanMessagePromptTemplate.from_template(human_template)\n",
        "chat_prompt = ChatPromptTemplate.from_messages([system_message_prompt, human_message_prompt])\n",
        "\n",
        "chain = LLMChain(llm=chat, prompt=chat_prompt)\n",
        "chain.run(input_language=\"English\", output_language=\"Korean\", text=\"I love programming.\")"
      ],
      "metadata": {
        "colab": {
          "base_uri": "https://localhost:8080/",
          "height": 35
        },
        "id": "G2Ocm0bVohaL",
        "outputId": "4e93687b-2404-4788-a05b-ef8987bfffc3"
      },
      "execution_count": null,
      "outputs": [
        {
          "output_type": "execute_result",
          "data": {
            "text/plain": [
              "'저는 프로그래밍을 좋아합니다.'"
            ],
            "application/vnd.google.colaboratory.intrinsic+json": {
              "type": "string"
            }
          },
          "metadata": {},
          "execution_count": 27
        }
      ]
    },
    {
      "cell_type": "markdown",
      "source": [
        "## 3.7 스트리밍 (실시간 채팅)"
      ],
      "metadata": {
        "id": "DCF1n-TaNyp3"
      }
    },
    {
      "cell_type": "code",
      "source": [
        "from langchain.callbacks.base import CallbackManager\n",
        "from langchain.callbacks.streaming_stdout import StreamingStdOutCallbackHandler\n",
        "chat = ChatOpenAI(streaming=True, callback_manager=CallbackManager([StreamingStdOutCallbackHandler()]), verbose=True, temperature=0)\n",
        "resp = chat([HumanMessage(content=\"Write me a song about sparkling water.\")])"
      ],
      "metadata": {
        "colab": {
          "base_uri": "https://localhost:8080/"
        },
        "id": "1cOJZ-KbN0ba",
        "outputId": "a1f68524-f682-42df-b027-4057b185c67b"
      },
      "execution_count": null,
      "outputs": [
        {
          "output_type": "stream",
          "name": "stdout",
          "text": [
            "Verse 1:\n",
            "Bubbles rising to the top\n",
            "A refreshing drink that never stops\n",
            "Clear and crisp, it's oh so pure\n",
            "Sparkling water, I can't ignore\n",
            "\n",
            "Chorus:\n",
            "Sparkling water, oh how you shine\n",
            "A taste so clean, it's simply divine\n",
            "You quench my thirst, you make me feel alive\n",
            "Sparkling water, you're my favorite vibe\n",
            "\n",
            "Verse 2:\n",
            "No sugar, no calories, just H2O\n",
            "A drink that's good for me, don't you know\n",
            "With lemon or lime, you're even better\n",
            "Sparkling water, you're my forever\n",
            "\n",
            "Chorus:\n",
            "Sparkling water, oh how you shine\n",
            "A taste so clean, it's simply divine\n",
            "You quench my thirst, you make me feel alive\n",
            "Sparkling water, you're my favorite vibe\n",
            "\n",
            "Bridge:\n",
            "You're my go-to drink, day or night\n",
            "You make me feel so light\n",
            "I'll never give you up, you're my true love\n",
            "Sparkling water, you're sent from above\n",
            "\n",
            "Chorus:\n",
            "Sparkling water, oh how you shine\n",
            "A taste so clean, it's simply divine\n",
            "You quench my thirst, you make me feel alive\n",
            "Sparkling water, you're my favorite vibe\n",
            "\n",
            "Outro:\n",
            "Sparkling water, you're the one for me\n",
            "I'll never let you go, can't you see\n",
            "You're my drink of choice, forevermore\n",
            "Sparkling water, I adore."
          ]
        }
      ]
    },
    {
      "cell_type": "markdown",
      "source": [
        "# 4. 인덱스\n",
        "\n",
        "인덱스에 사용할 파일(\"state_of_the_union.txt\")을 다운로드 받습니다. "
      ],
      "metadata": {
        "id": "KItknQwPO6Hn"
      }
    },
    {
      "cell_type": "code",
      "source": [
        "!wget https://raw.githubusercontent.com/hwchase17/chat-your-data/master/state_of_the_union.txt"
      ],
      "metadata": {
        "colab": {
          "base_uri": "https://localhost:8080/"
        },
        "id": "pj_s1e6dKBO0",
        "outputId": "44ce0b0e-a668-4249-eabe-62cbac19de4f"
      },
      "execution_count": null,
      "outputs": [
        {
          "output_type": "stream",
          "name": "stdout",
          "text": [
            "--2023-04-13 15:22:40--  https://raw.githubusercontent.com/hwchase17/chat-your-data/master/state_of_the_union.txt\n",
            "Resolving raw.githubusercontent.com (raw.githubusercontent.com)... 185.199.108.133, 185.199.109.133, 185.199.110.133, ...\n",
            "Connecting to raw.githubusercontent.com (raw.githubusercontent.com)|185.199.108.133|:443... connected.\n",
            "HTTP request sent, awaiting response... 200 OK\n",
            "Length: 39027 (38K) [text/plain]\n",
            "Saving to: ‘state_of_the_union.txt.1’\n",
            "\n",
            "state_of_the_union. 100%[===================>]  38.11K  --.-KB/s    in 0.002s  \n",
            "\n",
            "2023-04-13 15:22:41 (16.0 MB/s) - ‘state_of_the_union.txt.1’ saved [39027/39027]\n",
            "\n"
          ]
        }
      ]
    },
    {
      "cell_type": "markdown",
      "source": [
        "## 4.1. 파일기반 질의응답"
      ],
      "metadata": {
        "id": "DD5hZshJQDVm"
      }
    },
    {
      "cell_type": "code",
      "source": [
        "from langchain.document_loaders import TextLoader\n",
        "loader = TextLoader('state_of_the_union.txt')\n",
        "\n",
        "from langchain.indexes import VectorstoreIndexCreator\n",
        "index = VectorstoreIndexCreator().from_loaders([loader])\n",
        "\n",
        "query = \"What did the president say about Ketanji Brown Jackson\"\n",
        "print(index.query(query))\n",
        "\n",
        "query = \"What did the president say about Ketanji Brown Jackson\"\n",
        "print(index.query_with_sources(query))"
      ],
      "metadata": {
        "colab": {
          "base_uri": "https://localhost:8080/"
        },
        "id": "Ir3Q3OtaaLaT",
        "outputId": "33cc8b3b-4b7e-4fb2-93af-12bff8aed123"
      },
      "execution_count": null,
      "outputs": [
        {
          "output_type": "stream",
          "name": "stderr",
          "text": [
            "WARNING:chromadb:Using embedded DuckDB without persistence: data will be transient\n"
          ]
        },
        {
          "output_type": "stream",
          "name": "stdout",
          "text": [
            " The president said that Ketanji Brown Jackson is one of the nation's top legal minds, a former top litigator in private practice, a former federal public defender, and from a family of public school educators and police officers. He also said that she is a consensus builder and has received a broad range of support from the Fraternal Order of Police to former judges appointed by Democrats and Republicans.\n",
            "{'question': 'What did the president say about Ketanji Brown Jackson', 'answer': \" The president said that he nominated Circuit Court of Appeals Judge Ketanji Brown Jackson, one of the nation's top legal minds, to continue Justice Breyer's legacy of excellence, and that she has received a broad range of support from the Fraternal Order of Police to former judges appointed by Democrats and Republicans.\\n\", 'sources': 'state_of_the_union.txt'}\n"
          ]
        }
      ]
    },
    {
      "cell_type": "markdown",
      "source": [
        "## 4.2. 벡터DB기반 질의응답"
      ],
      "metadata": {
        "id": "VNHIwdgBaKPb"
      }
    },
    {
      "cell_type": "markdown",
      "source": [
        "### stuff 방식 - 기본"
      ],
      "metadata": {
        "id": "ZizPA0W_qZ3g"
      }
    },
    {
      "cell_type": "code",
      "source": [
        "from langchain.embeddings.openai import OpenAIEmbeddings\n",
        "from langchain.text_splitter import CharacterTextSplitter\n",
        "from langchain.vectorstores import Chroma\n",
        "from langchain.docstore.document import Document\n",
        "from langchain.prompts import PromptTemplate\n",
        "from langchain.indexes.vectorstore import VectorstoreIndexCreator"
      ],
      "metadata": {
        "id": "hVqblL__PG1H"
      },
      "execution_count": null,
      "outputs": []
    },
    {
      "cell_type": "code",
      "source": [
        "with open(\"state_of_the_union.txt\") as f:\n",
        "    state_of_the_union = f.read()\n",
        "text_splitter = CharacterTextSplitter(chunk_size=1000, chunk_overlap=0)\n",
        "texts = text_splitter.split_text(state_of_the_union)\n",
        "\n",
        "embeddings = OpenAIEmbeddings()\n",
        "\n",
        "docsearch = Chroma.from_texts(texts, embeddings, metadatas=[{\"source\": str(i)} for i in range(len(texts))]).as_retriever()\n",
        "\n",
        "query = \"What did the president say about Justice Breyer\"\n",
        "docs = docsearch.get_relevant_documents(query)\n",
        "\n",
        "from langchain.chains.question_answering import load_qa_chain\n",
        "from langchain.llms import OpenAI\n",
        "\n",
        "chain = load_qa_chain(OpenAI(temperature=0), chain_type=\"stuff\")\n",
        "query = \"What did the president say about Justice Breyer\"\n",
        "chain.run(input_documents=docs, question=query)"
      ],
      "metadata": {
        "colab": {
          "base_uri": "https://localhost:8080/",
          "height": 72
        },
        "id": "iFiLS2YyQQwu",
        "outputId": "caec7b52-086a-4e73-f3af-85d45f01ce46"
      },
      "execution_count": null,
      "outputs": [
        {
          "output_type": "stream",
          "name": "stderr",
          "text": [
            "WARNING:chromadb:Using embedded DuckDB without persistence: data will be transient\n"
          ]
        },
        {
          "output_type": "execute_result",
          "data": {
            "text/plain": [
              "' The president said that Justice Breyer is an Army veteran, Constitutional scholar, and retiring Justice of the United States Supreme Court, and thanked him for his service.'"
            ],
            "application/vnd.google.colaboratory.intrinsic+json": {
              "type": "string"
            }
          },
          "metadata": {},
          "execution_count": 84
        }
      ]
    },
    {
      "cell_type": "markdown",
      "source": [
        "### stuff 방식 - 사용자 정의 프롬프트 템플릿"
      ],
      "metadata": {
        "id": "VDEMMSuTQgGv"
      }
    },
    {
      "cell_type": "code",
      "source": [
        "prompt_template = \"\"\"Use the following pieces of context to answer the question at the end. If you don't know the answer, just say that you don't know, don't try to make up an answer.\n",
        "\n",
        "{context}\n",
        "\n",
        "Question: {question}\n",
        "Answer in Korean:\"\"\"\n",
        "PROMPT = PromptTemplate(\n",
        "    template=prompt_template, input_variables=[\"context\", \"question\"]\n",
        ")\n",
        "chain = load_qa_chain(OpenAI(temperature=0), chain_type=\"stuff\", prompt=PROMPT)\n",
        "chain({\"input_documents\": docs, \"question\": query}, return_only_outputs=True)"
      ],
      "metadata": {
        "colab": {
          "base_uri": "https://localhost:8080/"
        },
        "id": "ekYUlEvdQTEI",
        "outputId": "348c8692-82ce-4a02-cdb8-c3049d6b017d"
      },
      "execution_count": null,
      "outputs": [
        {
          "output_type": "execute_result",
          "data": {
            "text/plain": [
              "{'output_text': ' 대통령은 스티븐 브라이어 재판관에 대해 말했다, 그는 군인, 헌법학자 및 미국 최고법원의 퇴임 재판관이며 이 나라를 섬기기 위해 삶을 헌신한 사람이라고 기념하고 싶다고 말했다.'}"
            ]
          },
          "metadata": {},
          "execution_count": 85
        }
      ]
    },
    {
      "cell_type": "markdown",
      "source": [
        "### map-rerank 방식 - 기본"
      ],
      "metadata": {
        "id": "yCW0Vkw_bm4i"
      }
    },
    {
      "cell_type": "code",
      "source": [
        "chain = load_qa_chain(OpenAI(temperature=0), chain_type=\"map_rerank\", return_intermediate_steps=True)\n",
        "\n",
        "query = \"What did the president say about Justice Breyer\"\n",
        "results = chain({\"input_documents\": docs, \"question\": query}, return_only_outputs=True)\n",
        "\n",
        "results[\"output_text\"]\n",
        "\n",
        "results[\"intermediate_steps\"]"
      ],
      "metadata": {
        "colab": {
          "base_uri": "https://localhost:8080/"
        },
        "id": "7nYr20OCbmdp",
        "outputId": "45512968-8cbc-4d44-cfae-b50052931187"
      },
      "execution_count": null,
      "outputs": [
        {
          "output_type": "execute_result",
          "data": {
            "text/plain": [
              "[{'answer': ' The President thanked Justice Breyer for his service and honored him for dedicating his life to serve the country.',\n",
              "  'score': '100'},\n",
              " {'answer': ' This document does not answer the question', 'score': '0'},\n",
              " {'answer': ' This document does not answer the question', 'score': '0'},\n",
              " {'answer': ' This document does not answer the question', 'score': '0'}]"
            ]
          },
          "metadata": {},
          "execution_count": 86
        }
      ]
    },
    {
      "cell_type": "markdown",
      "source": [
        "### map-rerank - 사용자 정의 프롬프트 템플릿"
      ],
      "metadata": {
        "id": "bRVD-3xdqj2C"
      }
    },
    {
      "cell_type": "code",
      "source": [
        "from langchain.output_parsers import RegexParser\n",
        "\n",
        "output_parser = RegexParser(\n",
        "    regex=r\"(.*?)\\nScore: (.*)\",\n",
        "    output_keys=[\"answer\", \"score\"],\n",
        ")\n",
        "\n",
        "prompt_template = \"\"\"Use the following pieces of context to answer the question at the end. If you don't know the answer, just say that you don't know, don't try to make up an answer.\n",
        "\n",
        "In addition to giving an answer, also return a score of how fully it answered the user's question. This should be in the following format:\n",
        "\n",
        "Question: [question here]\n",
        "Helpful Answer In Italian: [answer here]\n",
        "Score: [score between 0 and 100]\n",
        "\n",
        "Begin!\n",
        "\n",
        "Context:\n",
        "---------\n",
        "{context}\n",
        "---------\n",
        "Question: {question}\n",
        "Helpful Answer In Korean:\"\"\"\n",
        "PROMPT = PromptTemplate(\n",
        "    template=prompt_template,\n",
        "    input_variables=[\"context\", \"question\"],\n",
        "    output_parser=output_parser,\n",
        ")\n",
        "\n",
        "chain = load_qa_chain(OpenAI(temperature=0), chain_type=\"map_rerank\", return_intermediate_steps=True, prompt=PROMPT)\n",
        "query = \"What did the president say about Justice Breyer\"\n",
        "chain({\"input_documents\": docs, \"question\": query}, return_only_outputs=True)"
      ],
      "metadata": {
        "colab": {
          "base_uri": "https://localhost:8080/"
        },
        "id": "9ud4HV8cbwFn",
        "outputId": "09b32795-f4e9-4c3f-879a-8cccb177adc2"
      },
      "execution_count": null,
      "outputs": [
        {
          "output_type": "execute_result",
          "data": {
            "text/plain": [
              "{'intermediate_steps': [{'answer': ' 대통령은 스티븐 브라이어 재판관에 대해 무엇을 말했습니까?',\n",
              "   'score': '100'},\n",
              "  {'answer': ' 대통령은 브라이어 재판관에 대해 무엇을 말했습니까?', 'score': '0'},\n",
              "  {'answer': ' 대통령은 브라이어 재판관에 대해 무엇을 말했습니까?', 'score': '0'},\n",
              "  {'answer': ' 대통령은 저스티스 브라이어에 대해 무엇을 말했습니까?', 'score': '0'}],\n",
              " 'output_text': ' 대통령은 스티븐 브라이어 재판관에 대해 무엇을 말했습니까?'}"
            ]
          },
          "metadata": {},
          "execution_count": 87
        }
      ]
    },
    {
      "cell_type": "markdown",
      "source": [
        "## 4.3. RetrievalQA 체인을 이용한 검색 기반 질의응답"
      ],
      "metadata": {
        "id": "xTm-l8gscJ2y"
      }
    },
    {
      "cell_type": "code",
      "source": [
        "from langchain.embeddings.openai import OpenAIEmbeddings\n",
        "from langchain.vectorstores import Chroma\n",
        "from langchain.text_splitter import CharacterTextSplitter\n",
        "from langchain.llms import OpenAI\n",
        "from langchain.chains import RetrievalQA\n",
        "\n",
        "from langchain.document_loaders import TextLoader\n",
        "loader = TextLoader(\"state_of_the_union.txt\")\n",
        "documents = loader.load()\n",
        "text_splitter = CharacterTextSplitter(chunk_size=1000, chunk_overlap=0)\n",
        "texts = text_splitter.split_documents(documents)\n",
        "\n",
        "embeddings = OpenAIEmbeddings()\n",
        "docsearch = Chroma.from_documents(texts, embeddings)\n",
        "\n",
        "qa = RetrievalQA.from_chain_type(llm=OpenAI(), chain_type=\"stuff\", retriever=docsearch.as_retriever())\n",
        "\n",
        "query = \"What did the president say about Ketanji Brown Jackson\"\n",
        "qa.run(query)"
      ],
      "metadata": {
        "colab": {
          "base_uri": "https://localhost:8080/",
          "height": 107
        },
        "id": "UJgLpvdYcLIf",
        "outputId": "9e732f1f-4b24-4c1d-b07c-7ecad104ce60"
      },
      "execution_count": null,
      "outputs": [
        {
          "output_type": "stream",
          "name": "stderr",
          "text": [
            "WARNING:chromadb:Using embedded DuckDB without persistence: data will be transient\n"
          ]
        },
        {
          "output_type": "execute_result",
          "data": {
            "text/plain": [
              "\" The president said that Ketanji Brown Jackson is one of the nation's top legal minds and a consensus builder who has received a broad range of support from the Fraternal Order of Police to former judges appointed by Democrats and Republicans. He said she is a former top litigator in private practice, a former federal public defender, and from a family of public school educators and police officers.\""
            ],
            "application/vnd.google.colaboratory.intrinsic+json": {
              "type": "string"
            }
          },
          "metadata": {},
          "execution_count": 88
        }
      ]
    },
    {
      "cell_type": "markdown",
      "source": [
        "## 4.4. RetrievalQA 체인과 프롬프트 템플릿을 이용한 검색 기반 질의응답"
      ],
      "metadata": {
        "id": "yz4MT_1GLdOo"
      }
    },
    {
      "cell_type": "code",
      "source": [
        "from langchain.prompts import PromptTemplate\n",
        "prompt_template = \"\"\"Use the following pieces of context to answer the question at the end. If you don't know the answer, just say that you don't know, don't try to make up an answer.\n",
        "\n",
        "{context}\n",
        "\n",
        "Question: {question}\n",
        "Answer in Korean:\"\"\"\n",
        "PROMPT = PromptTemplate(\n",
        "    template=prompt_template, input_variables=[\"context\", \"question\"]\n",
        ")\n",
        "\n",
        "chain_type_kwargs = {\"prompt\": PROMPT}\n",
        "qa = RetrievalQA.from_chain_type(llm=OpenAI(), chain_type=\"stuff\", retriever=docsearch.as_retriever(), chain_type_kwargs=chain_type_kwargs)\n",
        "\n",
        "query = \"What did the president say about Ketanji Brown Jackson\"\n",
        "qa.run(query)"
      ],
      "metadata": {
        "colab": {
          "base_uri": "https://localhost:8080/",
          "height": 89
        },
        "id": "sBWyWqp-cb30",
        "outputId": "71baf571-e843-43d9-a253-1c9a3fc5624c"
      },
      "execution_count": null,
      "outputs": [
        {
          "output_type": "execute_result",
          "data": {
            "text/plain": [
              "\" 대통령은 케탄지 브론 잭슨에 대해 무엇을 말했나요? \\nAnswer in English: The President said that Judge Ketanji Brown Jackson is one of the nation's top legal minds, a consensus builder, and has received a broad range of support from the Fraternal Order of Police to former judges appointed by Democrats and Republicans.\""
            ],
            "application/vnd.google.colaboratory.intrinsic+json": {
              "type": "string"
            }
          },
          "metadata": {},
          "execution_count": 89
        }
      ]
    },
    {
      "cell_type": "markdown",
      "source": [
        "## 4.5. 요약체인과 문서분석체인을 이용한 요약"
      ],
      "metadata": {
        "id": "lX03HODagDas"
      }
    },
    {
      "cell_type": "code",
      "source": [
        "with open(\"state_of_the_union.txt\") as f:\n",
        "    state_of_the_union = f.read()\n",
        "\n",
        "from langchain import OpenAI\n",
        "from langchain.chains.summarize import load_summarize_chain\n",
        "\n",
        "llm = OpenAI(temperature=0)\n",
        "summary_chain = load_summarize_chain(llm, chain_type=\"map_reduce\")\n",
        "\n",
        "from langchain.chains import AnalyzeDocumentChain\n",
        "\n",
        "summarize_document_chain = AnalyzeDocumentChain(combine_docs_chain=summary_chain)\n",
        "\n",
        "summarize_document_chain.run(state_of_the_union)"
      ],
      "metadata": {
        "colab": {
          "base_uri": "https://localhost:8080/",
          "height": 161
        },
        "id": "irRzankagHSU",
        "outputId": "0752494c-a343-43c1-c642-c1f4fa8242f9"
      },
      "execution_count": null,
      "outputs": [
        {
          "output_type": "execute_result",
          "data": {
            "text/plain": [
              "\" In this speech, President Biden addresses the American people and the world, discussing the recent aggression of Russia's Vladimir Putin in Ukraine and the US response. He outlines economic sanctions and other measures taken to hold Putin accountable, and announces the US Department of Justice's task force to go after the crimes of Russian oligarchs. He also outlines plans to invest in America, modernize infrastructure, and promote environmental justice, and proposes a plan to fight inflation. He calls for the continued combat of COVID-19, and proposes a Unity Agenda for the Nation. He also provides assistance to lower-income veterans and leads the Cancer Moonshot. He concludes by emphasizing the strength of the nation and the need to come together to overcome the challenges of our time.\""
            ],
            "application/vnd.google.colaboratory.intrinsic+json": {
              "type": "string"
            }
          },
          "metadata": {},
          "execution_count": 90
        }
      ]
    },
    {
      "cell_type": "markdown",
      "source": [
        "## 4.6. 질의응답체인과 문서분석체인을 이용한 질의응답\n"
      ],
      "metadata": {
        "id": "CCkLpLb9gVwE"
      }
    },
    {
      "cell_type": "code",
      "source": [
        "from langchain.chains.question_answering import load_qa_chain\n",
        "\n",
        "qa_chain = load_qa_chain(llm, chain_type=\"map_reduce\")\n",
        "\n",
        "qa_document_chain = AnalyzeDocumentChain(combine_docs_chain=qa_chain)\n",
        "\n",
        "qa_document_chain.run(input_document=state_of_the_union, question=\"what did the president say about justice breyer?\")"
      ],
      "metadata": {
        "colab": {
          "base_uri": "https://localhost:8080/",
          "height": 36
        },
        "id": "QiOG65URgZet",
        "outputId": "4c37b7d2-5be7-4006-8038-bc13453609d8"
      },
      "execution_count": null,
      "outputs": [
        {
          "output_type": "execute_result",
          "data": {
            "text/plain": [
              "' The president thanked Justice Breyer for his service.'"
            ],
            "application/vnd.google.colaboratory.intrinsic+json": {
              "type": "string"
            }
          },
          "metadata": {},
          "execution_count": 91
        }
      ]
    },
    {
      "cell_type": "markdown",
      "source": [
        "# 5. 메모리"
      ],
      "metadata": {
        "id": "XZ8T7wCQia6i"
      }
    },
    {
      "cell_type": "markdown",
      "source": [
        "## 5.1. 메모리를 이용한 챗봇"
      ],
      "metadata": {
        "id": "EZVj_QGld0UD"
      }
    },
    {
      "cell_type": "code",
      "source": [
        "from langchain.memory import ConversationBufferMemory\n",
        "from langchain import OpenAI, LLMChain, PromptTemplate\n",
        "\n",
        "template = \"\"\"You are a chatbot having a conversation with a human.\n",
        "\n",
        "{chat_history}\n",
        "Human: {human_input}\n",
        "Chatbot:\"\"\"\n",
        "\n",
        "prompt = PromptTemplate(\n",
        "    input_variables=[\"chat_history\", \"human_input\"], \n",
        "    template=template\n",
        ")\n",
        "memory = ConversationBufferMemory(memory_key=\"chat_history\")\n",
        "\n",
        "llm_chain = LLMChain(\n",
        "    llm=OpenAI(), \n",
        "    prompt=prompt, \n",
        "    verbose=True, \n",
        "    memory=memory,\n",
        ")\n",
        "\n",
        "llm_chain.predict(human_input=\"Hi there my friend\")"
      ],
      "metadata": {
        "colab": {
          "base_uri": "https://localhost:8080/",
          "height": 232
        },
        "id": "cvxpQAtxdzpQ",
        "outputId": "13bbad4e-e4c1-4938-f0d4-6eaef6bee64a"
      },
      "execution_count": null,
      "outputs": [
        {
          "output_type": "stream",
          "name": "stdout",
          "text": [
            "\n",
            "\n",
            "\u001b[1m> Entering new LLMChain chain...\u001b[0m\n",
            "Prompt after formatting:\n",
            "\u001b[32;1m\u001b[1;3mYou are a chatbot having a conversation with a human.\n",
            "\n",
            "\n",
            "Human: Hi there my friend\n",
            "Chatbot:\u001b[0m\n",
            "\n",
            "\u001b[1m> Finished chain.\u001b[0m\n"
          ]
        },
        {
          "output_type": "execute_result",
          "data": {
            "text/plain": [
              "' Hi there, how are you doing today?'"
            ],
            "application/vnd.google.colaboratory.intrinsic+json": {
              "type": "string"
            }
          },
          "metadata": {},
          "execution_count": 92
        }
      ]
    },
    {
      "cell_type": "code",
      "source": [
        "llm_chain.predict(human_input=\"Not to bad - how are you?\")"
      ],
      "metadata": {
        "colab": {
          "base_uri": "https://localhost:8080/",
          "height": 250
        },
        "id": "QhNS7nwYd8dq",
        "outputId": "5a68351a-6942-487d-d242-d3b92f0e92ec"
      },
      "execution_count": null,
      "outputs": [
        {
          "output_type": "stream",
          "name": "stdout",
          "text": [
            "\n",
            "\n",
            "\u001b[1m> Entering new LLMChain chain...\u001b[0m\n",
            "Prompt after formatting:\n",
            "\u001b[32;1m\u001b[1;3mYou are a chatbot having a conversation with a human.\n",
            "\n",
            "Human: Hi there my friend\n",
            "AI:  Hi there, how are you doing today?\n",
            "Human: Not to bad - how are you?\n",
            "Chatbot:\u001b[0m\n",
            "\n",
            "\u001b[1m> Finished chain.\u001b[0m\n"
          ]
        },
        {
          "output_type": "execute_result",
          "data": {
            "text/plain": [
              "\" I'm doing great, thanks for asking!\""
            ],
            "application/vnd.google.colaboratory.intrinsic+json": {
              "type": "string"
            }
          },
          "metadata": {},
          "execution_count": 93
        }
      ]
    },
    {
      "cell_type": "markdown",
      "source": [
        "# 6. 에이전트"
      ],
      "metadata": {
        "id": "-0sulZPHgsnw"
      }
    },
    {
      "cell_type": "markdown",
      "source": [
        "## 6.1. 구글 검색 도구"
      ],
      "metadata": {
        "id": "PwQTtqdPhPLT"
      }
    },
    {
      "cell_type": "code",
      "source": [
        "from langchain.utilities import SerpAPIWrapper\n",
        "\n",
        "search = SerpAPIWrapper()\n",
        "search.run(\"Obama's first name?\")"
      ],
      "metadata": {
        "colab": {
          "base_uri": "https://localhost:8080/",
          "height": 36
        },
        "id": "IbkLYIk0hRIm",
        "outputId": "7ee5f86c-733d-4fa1-ba63-3cbfd9af39d1"
      },
      "execution_count": null,
      "outputs": [
        {
          "output_type": "execute_result",
          "data": {
            "text/plain": [
              "'Barack Hussein Obama II'"
            ],
            "application/vnd.google.colaboratory.intrinsic+json": {
              "type": "string"
            }
          },
          "metadata": {},
          "execution_count": 94
        }
      ]
    },
    {
      "cell_type": "code",
      "source": [
        "params = {\n",
        "    \"engine\": \"bing\",\n",
        "    \"gl\": \"us\",\n",
        "    \"hl\": \"en\",\n",
        "}\n",
        "search = SerpAPIWrapper(params=params)\n",
        "\n",
        "search.run(\"Obama's first name?\")"
      ],
      "metadata": {
        "colab": {
          "base_uri": "https://localhost:8080/",
          "height": 161
        },
        "id": "7Xt8W69ShXeU",
        "outputId": "4bdba10e-5916-40dc-c38a-bc8c0a92bec5"
      },
      "execution_count": null,
      "outputs": [
        {
          "output_type": "execute_result",
          "data": {
            "text/plain": [
              "'Barack Hussein Obama II is an American former politician who served as the 44th president of the United States from 2009 to 2017. A member of the Democratic Party, he was the first African-Ame…New content will be added above the current area of focus upon selectionBarack Hussein Obama II is an American former politician who served as the 44th president of the United States from 2009 to 2017. A member of the Democratic Party, he was the first African-American president of the United States. Obama previously served as a U.S. senator representing Illinois from 2005 to 2008 and as an Illinois state senator from 1997 to 2004, and worked as a civil rights lawyer before holding public office.Wikipediabarackobama.com'"
            ],
            "application/vnd.google.colaboratory.intrinsic+json": {
              "type": "string"
            }
          },
          "metadata": {},
          "execution_count": 95
        }
      ]
    },
    {
      "cell_type": "markdown",
      "source": [
        "## 6.2. 구글 검색 도구와 수학 도구를 이용한 에이전트"
      ],
      "metadata": {
        "id": "edzDDj0vniMb"
      }
    },
    {
      "cell_type": "code",
      "source": [
        "from langchain.agents import load_tools\n",
        "from langchain.agents import initialize_agent\n",
        "from langchain.agents import AgentType\n",
        "from langchain.llms import OpenAI\n",
        "\n",
        "# First, let's load the language model we're going to use to control the agent.\n",
        "llm = OpenAI(temperature=0)\n",
        "\n",
        "# Next, let's load some tools to use. Note that the `llm-math` tool uses an LLM, so we need to pass that in.\n",
        "tools = load_tools([\"serpapi\", \"llm-math\"], llm=llm)\n",
        "\n",
        "# Finally, let's initialize an agent with the tools, the language model, and the type of agent we want to use.\n",
        "agent = initialize_agent(tools, llm, agent=AgentType.ZERO_SHOT_REACT_DESCRIPTION, verbose=True)\n",
        "\n",
        "# Now let's test it out!\n",
        "agent.run(\"What was the high temperature in SF yesterday in Fahrenheit? What is that number raised to the .023 power?\")"
      ],
      "metadata": {
        "colab": {
          "base_uri": "https://localhost:8080/",
          "height": 359
        },
        "id": "UKK-_-FMnhvf",
        "outputId": "b0a58ea5-3c2b-4114-b42b-022cd45f6be8"
      },
      "execution_count": null,
      "outputs": [
        {
          "output_type": "stream",
          "name": "stdout",
          "text": [
            "\n",
            "\n",
            "\u001b[1m> Entering new AgentExecutor chain...\u001b[0m\n",
            "\u001b[32;1m\u001b[1;3m I need to find the temperature first, then use the calculator to raise it to the .023 power.\n",
            "Action: Search\n",
            "Action Input: \"High temperature in SF yesterday\"\u001b[0m\n",
            "Observation: \u001b[36;1m\u001b[1;3mHigh: 59ºf @3:40 PM Low: 48.02ºf @5:56 AM Approx. Precipitation / Rain Total: in. 1hr.\u001b[0m\n",
            "Thought:\u001b[32;1m\u001b[1;3m I need to use the calculator to raise the temperature to the .023 power.\n",
            "Action: Calculator\n",
            "Action Input: 59^.023\u001b[0m\n",
            "Observation: \u001b[33;1m\u001b[1;3mAnswer: 1.0983217810400328\n",
            "\u001b[0m\n",
            "Thought:\u001b[32;1m\u001b[1;3m I now know the final answer.\n",
            "Final Answer: The high temperature in SF yesterday in Fahrenheit raised to the .023 power is 1.0983217810400328.\u001b[0m\n",
            "\n",
            "\u001b[1m> Finished chain.\u001b[0m\n"
          ]
        },
        {
          "output_type": "execute_result",
          "data": {
            "text/plain": [
              "'The high temperature in SF yesterday in Fahrenheit raised to the .023 power is 1.0983217810400328.'"
            ],
            "application/vnd.google.colaboratory.intrinsic+json": {
              "type": "string"
            }
          },
          "metadata": {},
          "execution_count": 96
        }
      ]
    },
    {
      "cell_type": "markdown",
      "source": [
        "## 6.3. 채팅 모델을 이용한 에이전트"
      ],
      "metadata": {
        "id": "V2i0udciKiJN"
      }
    },
    {
      "cell_type": "code",
      "source": [
        "from langchain.agents import load_tools\n",
        "from langchain.agents import initialize_agent\n",
        "from langchain.agents import AgentType\n",
        "from langchain.chat_models import ChatOpenAI\n",
        "from langchain.llms import OpenAI\n",
        "\n",
        "# First, let's load the language model we're going to use to control the agent.\n",
        "chat = ChatOpenAI(temperature=0)\n",
        "\n",
        "# Next, let's load some tools to use. Note that the `llm-math` tool uses an LLM, so we need to pass that in.\n",
        "llm = OpenAI(temperature=0)\n",
        "tools = load_tools([\"serpapi\", \"llm-math\"], llm=llm)\n",
        "\n",
        "\n",
        "# Finally, let's initialize an agent with the tools, the language model, and the type of agent we want to use.\n",
        "agent = initialize_agent(tools, chat, agent=AgentType.CHAT_ZERO_SHOT_REACT_DESCRIPTION, verbose=True)\n",
        "\n",
        "# Now let's test it out!\n",
        "agent.run(\"Who is Olivia Wilde's boyfriend? What is his current age raised to the 0.23 power?\")"
      ],
      "metadata": {
        "id": "eji16h06KgHP",
        "colab": {
          "base_uri": "https://localhost:8080/",
          "height": 556
        },
        "outputId": "e54cac47-1c75-4b53-fe38-2165b954c7ca"
      },
      "execution_count": null,
      "outputs": [
        {
          "output_type": "stream",
          "name": "stdout",
          "text": [
            "\n",
            "\n",
            "\u001b[1m> Entering new AgentExecutor chain...\u001b[0m\n",
            "\u001b[32;1m\u001b[1;3mThought: I need to use a search engine to find Olivia Wilde's boyfriend and a calculator to raise his age to the 0.23 power.\n",
            "Action:\n",
            "```\n",
            "{\n",
            "  \"action\": \"Search\",\n",
            "  \"action_input\": \"Olivia Wilde boyfriend\"\n",
            "}\n",
            "```\n",
            "\u001b[0m\n",
            "Observation: \u001b[36;1m\u001b[1;3mOlivia Wilde started dating Harry Styles after ending her years-long engagement to Jason Sudeikis — see their relationship timeline.\u001b[0m\n",
            "Thought:\u001b[32;1m\u001b[1;3mNow I need to use a calculator to raise Harry Styles' age to the 0.23 power.\n",
            "Action:\n",
            "```\n",
            "{\n",
            "  \"action\": \"Calculator\",\n",
            "  \"action_input\": \"pow(27, 0.23)\"\n",
            "}\n",
            "```\n",
            "\u001b[0m\n",
            "Observation: \u001b[33;1m\u001b[1;3mAnswer: 2.1340945944237553\n",
            "\u001b[0m\n",
            "Thought:\u001b[32;1m\u001b[1;3mI now know the final answer.\n",
            "Final Answer: 2.1340945944237553\u001b[0m\n",
            "\n",
            "\u001b[1m> Finished chain.\u001b[0m\n"
          ]
        },
        {
          "output_type": "execute_result",
          "data": {
            "text/plain": [
              "'2.1340945944237553'"
            ],
            "application/vnd.google.colaboratory.intrinsic+json": {
              "type": "string"
            }
          },
          "metadata": {},
          "execution_count": 97
        }
      ]
    }
  ]
}